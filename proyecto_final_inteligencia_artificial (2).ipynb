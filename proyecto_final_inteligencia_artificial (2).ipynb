{
  "nbformat": 4,
  "nbformat_minor": 0,
  "metadata": {
    "colab": {
      "provenance": []
    },
    "kernelspec": {
      "name": "python3",
      "display_name": "Python 3"
    },
    "language_info": {
      "name": "python"
    }
  },
  "cells": [
    {
      "cell_type": "markdown",
      "source": [
        "# **Proyecto: Detección de diabetes**"
      ],
      "metadata": {
        "id": "nUHRaNsB85Us"
      }
    },
    {
      "cell_type": "markdown",
      "source": [
        "Se pretende hacer un detector de diabetes. Lo podemos definir como un problema de clasificacion binaria i.e, donde una clase define sí tener diabetes y la otra clase define no tiener diabetes.\n",
        "\n",
        "Usaremos 5 métodos de aprendizaje supervisado:\n",
        "\n",
        "* [**Modelo de Bayes Naïve**](#scrollTo=VDKpdJmiVrQ_&line=1&uniqifier=1)\n",
        "* [**Modelo de Regresión logística**](#scrollTo=VDKpdJmiVrQ_&line=1&uniqifier=1)\n",
        "* [**Modelo de árbol de decisión**](#scrollTo=7TI9QoqVWy5f&line=4&uniqifier=1)\n",
        "* [**Modelo K-NN (K Nearest Neighbors)**](#scrollTo=7TI9QoqVWy5f&line=4&uniqifier=1)\n",
        "* [**Modelo NN (Redes Neuronales)**](#scrollTo=7TI9QoqVWy5f&line=4&uniqifier=1)\n"
      ],
      "metadata": {
        "id": "17gsjyF29NyT"
      }
    },
    {
      "cell_type": "markdown",
      "source": [
        "## **1. Descripción Dataset**\n",
        "EL conjunto d edatos es de: National Institute of Diabetes and Digestive and Kidney\n",
        "Diseases.\n",
        "\\\n",
        "Se puede consultar en:\n",
        "https://www.kaggle.com/datasets/whenamancodes/predict-diabities"
      ],
      "metadata": {
        "id": "T5L8-F1kEPtl"
      }
    },
    {
      "cell_type": "code",
      "source": [
        "from google.colab import drive\n",
        "drive.mount('/content/drive')"
      ],
      "metadata": {
        "colab": {
          "base_uri": "https://localhost:8080/"
        },
        "id": "756wi-QDeexO",
        "outputId": "2d94653b-8593-4e69-8fd6-3aa1679b0f59"
      },
      "execution_count": null,
      "outputs": [
        {
          "output_type": "stream",
          "name": "stdout",
          "text": [
            "Mounted at /content/drive\n"
          ]
        }
      ]
    },
    {
      "cell_type": "code",
      "source": [
        "import numpy as np \n",
        "import pandas as pd \n",
        "import matplotlib.pyplot as plt\n",
        "import seaborn as sns\n",
        "import os"
      ],
      "metadata": {
        "id": "Ai--e3TR9Mh-"
      },
      "execution_count": null,
      "outputs": []
    },
    {
      "cell_type": "code",
      "source": [
        "df = pd.read_csv('/content/drive/MyDrive/data_set_entrenamiento/I.A./diabetes.csv')\n",
        "df.head()"
      ],
      "metadata": {
        "colab": {
          "base_uri": "https://localhost:8080/",
          "height": 206
        },
        "id": "YzTCD2EvG1xU",
        "outputId": "d90535ff-bc5e-4e1c-f775-7827d36638e8"
      },
      "execution_count": null,
      "outputs": [
        {
          "output_type": "execute_result",
          "data": {
            "text/plain": [
              "   Pregnancies  Glucose  BloodPressure  SkinThickness  Insulin   BMI  \\\n",
              "0            6      148             72             35        0  33.6   \n",
              "1            1       85             66             29        0  26.6   \n",
              "2            8      183             64              0        0  23.3   \n",
              "3            1       89             66             23       94  28.1   \n",
              "4            0      137             40             35      168  43.1   \n",
              "\n",
              "   DiabetesPedigreeFunction  Age  Outcome  \n",
              "0                     0.627   50        1  \n",
              "1                     0.351   31        0  \n",
              "2                     0.672   32        1  \n",
              "3                     0.167   21        0  \n",
              "4                     2.288   33        1  "
            ],
            "text/html": [
              "\n",
              "  <div id=\"df-ee3d8e3a-528c-4823-9511-256a7835b4ad\">\n",
              "    <div class=\"colab-df-container\">\n",
              "      <div>\n",
              "<style scoped>\n",
              "    .dataframe tbody tr th:only-of-type {\n",
              "        vertical-align: middle;\n",
              "    }\n",
              "\n",
              "    .dataframe tbody tr th {\n",
              "        vertical-align: top;\n",
              "    }\n",
              "\n",
              "    .dataframe thead th {\n",
              "        text-align: right;\n",
              "    }\n",
              "</style>\n",
              "<table border=\"1\" class=\"dataframe\">\n",
              "  <thead>\n",
              "    <tr style=\"text-align: right;\">\n",
              "      <th></th>\n",
              "      <th>Pregnancies</th>\n",
              "      <th>Glucose</th>\n",
              "      <th>BloodPressure</th>\n",
              "      <th>SkinThickness</th>\n",
              "      <th>Insulin</th>\n",
              "      <th>BMI</th>\n",
              "      <th>DiabetesPedigreeFunction</th>\n",
              "      <th>Age</th>\n",
              "      <th>Outcome</th>\n",
              "    </tr>\n",
              "  </thead>\n",
              "  <tbody>\n",
              "    <tr>\n",
              "      <th>0</th>\n",
              "      <td>6</td>\n",
              "      <td>148</td>\n",
              "      <td>72</td>\n",
              "      <td>35</td>\n",
              "      <td>0</td>\n",
              "      <td>33.6</td>\n",
              "      <td>0.627</td>\n",
              "      <td>50</td>\n",
              "      <td>1</td>\n",
              "    </tr>\n",
              "    <tr>\n",
              "      <th>1</th>\n",
              "      <td>1</td>\n",
              "      <td>85</td>\n",
              "      <td>66</td>\n",
              "      <td>29</td>\n",
              "      <td>0</td>\n",
              "      <td>26.6</td>\n",
              "      <td>0.351</td>\n",
              "      <td>31</td>\n",
              "      <td>0</td>\n",
              "    </tr>\n",
              "    <tr>\n",
              "      <th>2</th>\n",
              "      <td>8</td>\n",
              "      <td>183</td>\n",
              "      <td>64</td>\n",
              "      <td>0</td>\n",
              "      <td>0</td>\n",
              "      <td>23.3</td>\n",
              "      <td>0.672</td>\n",
              "      <td>32</td>\n",
              "      <td>1</td>\n",
              "    </tr>\n",
              "    <tr>\n",
              "      <th>3</th>\n",
              "      <td>1</td>\n",
              "      <td>89</td>\n",
              "      <td>66</td>\n",
              "      <td>23</td>\n",
              "      <td>94</td>\n",
              "      <td>28.1</td>\n",
              "      <td>0.167</td>\n",
              "      <td>21</td>\n",
              "      <td>0</td>\n",
              "    </tr>\n",
              "    <tr>\n",
              "      <th>4</th>\n",
              "      <td>0</td>\n",
              "      <td>137</td>\n",
              "      <td>40</td>\n",
              "      <td>35</td>\n",
              "      <td>168</td>\n",
              "      <td>43.1</td>\n",
              "      <td>2.288</td>\n",
              "      <td>33</td>\n",
              "      <td>1</td>\n",
              "    </tr>\n",
              "  </tbody>\n",
              "</table>\n",
              "</div>\n",
              "      <button class=\"colab-df-convert\" onclick=\"convertToInteractive('df-ee3d8e3a-528c-4823-9511-256a7835b4ad')\"\n",
              "              title=\"Convert this dataframe to an interactive table.\"\n",
              "              style=\"display:none;\">\n",
              "        \n",
              "  <svg xmlns=\"http://www.w3.org/2000/svg\" height=\"24px\"viewBox=\"0 0 24 24\"\n",
              "       width=\"24px\">\n",
              "    <path d=\"M0 0h24v24H0V0z\" fill=\"none\"/>\n",
              "    <path d=\"M18.56 5.44l.94 2.06.94-2.06 2.06-.94-2.06-.94-.94-2.06-.94 2.06-2.06.94zm-11 1L8.5 8.5l.94-2.06 2.06-.94-2.06-.94L8.5 2.5l-.94 2.06-2.06.94zm10 10l.94 2.06.94-2.06 2.06-.94-2.06-.94-.94-2.06-.94 2.06-2.06.94z\"/><path d=\"M17.41 7.96l-1.37-1.37c-.4-.4-.92-.59-1.43-.59-.52 0-1.04.2-1.43.59L10.3 9.45l-7.72 7.72c-.78.78-.78 2.05 0 2.83L4 21.41c.39.39.9.59 1.41.59.51 0 1.02-.2 1.41-.59l7.78-7.78 2.81-2.81c.8-.78.8-2.07 0-2.86zM5.41 20L4 18.59l7.72-7.72 1.47 1.35L5.41 20z\"/>\n",
              "  </svg>\n",
              "      </button>\n",
              "      \n",
              "  <style>\n",
              "    .colab-df-container {\n",
              "      display:flex;\n",
              "      flex-wrap:wrap;\n",
              "      gap: 12px;\n",
              "    }\n",
              "\n",
              "    .colab-df-convert {\n",
              "      background-color: #E8F0FE;\n",
              "      border: none;\n",
              "      border-radius: 50%;\n",
              "      cursor: pointer;\n",
              "      display: none;\n",
              "      fill: #1967D2;\n",
              "      height: 32px;\n",
              "      padding: 0 0 0 0;\n",
              "      width: 32px;\n",
              "    }\n",
              "\n",
              "    .colab-df-convert:hover {\n",
              "      background-color: #E2EBFA;\n",
              "      box-shadow: 0px 1px 2px rgba(60, 64, 67, 0.3), 0px 1px 3px 1px rgba(60, 64, 67, 0.15);\n",
              "      fill: #174EA6;\n",
              "    }\n",
              "\n",
              "    [theme=dark] .colab-df-convert {\n",
              "      background-color: #3B4455;\n",
              "      fill: #D2E3FC;\n",
              "    }\n",
              "\n",
              "    [theme=dark] .colab-df-convert:hover {\n",
              "      background-color: #434B5C;\n",
              "      box-shadow: 0px 1px 3px 1px rgba(0, 0, 0, 0.15);\n",
              "      filter: drop-shadow(0px 1px 2px rgba(0, 0, 0, 0.3));\n",
              "      fill: #FFFFFF;\n",
              "    }\n",
              "  </style>\n",
              "\n",
              "      <script>\n",
              "        const buttonEl =\n",
              "          document.querySelector('#df-ee3d8e3a-528c-4823-9511-256a7835b4ad button.colab-df-convert');\n",
              "        buttonEl.style.display =\n",
              "          google.colab.kernel.accessAllowed ? 'block' : 'none';\n",
              "\n",
              "        async function convertToInteractive(key) {\n",
              "          const element = document.querySelector('#df-ee3d8e3a-528c-4823-9511-256a7835b4ad');\n",
              "          const dataTable =\n",
              "            await google.colab.kernel.invokeFunction('convertToInteractive',\n",
              "                                                     [key], {});\n",
              "          if (!dataTable) return;\n",
              "\n",
              "          const docLinkHtml = 'Like what you see? Visit the ' +\n",
              "            '<a target=\"_blank\" href=https://colab.research.google.com/notebooks/data_table.ipynb>data table notebook</a>'\n",
              "            + ' to learn more about interactive tables.';\n",
              "          element.innerHTML = '';\n",
              "          dataTable['output_type'] = 'display_data';\n",
              "          await google.colab.output.renderOutput(dataTable, element);\n",
              "          const docLink = document.createElement('div');\n",
              "          docLink.innerHTML = docLinkHtml;\n",
              "          element.appendChild(docLink);\n",
              "        }\n",
              "      </script>\n",
              "    </div>\n",
              "  </div>\n",
              "  "
            ]
          },
          "metadata": {},
          "execution_count": 3
        }
      ]
    },
    {
      "cell_type": "markdown",
      "source": [
        "<b>En donde:</b> \\\n",
        "Pregnancies~ embarazos\\\n",
        "Glucose~glucosa en la sangre\\\n",
        "BloodPressure ~presion arterial\t\n",
        "SkinThickness ~ espesor de la piel del triceps\\\n",
        "Insulin ~ insulina en la sangre \t\n",
        "BMI ~ indice de masa corporal\t\n",
        "DiabetesPedigreeFunction\t~ ascendencia en la enfermedad  \\\n",
        "Age ~años"
      ],
      "metadata": {
        "id": "otqmo-iiHTNU"
      }
    },
    {
      "cell_type": "code",
      "source": [
        "#presentamos los datos estadisticos: la media, la desviacion estandar, los valores maximos y minimos asi como los percentiles  \n",
        "df.describe()"
      ],
      "metadata": {
        "id": "xrR88z9oHFLC",
        "colab": {
          "base_uri": "https://localhost:8080/",
          "height": 300
        },
        "outputId": "9c0be469-1416-4bfc-cc23-514659df34fc"
      },
      "execution_count": null,
      "outputs": [
        {
          "output_type": "execute_result",
          "data": {
            "text/plain": [
              "       Pregnancies     Glucose  BloodPressure  SkinThickness     Insulin  \\\n",
              "count   768.000000  768.000000     768.000000     768.000000  768.000000   \n",
              "mean      3.845052  120.894531      69.105469      20.536458   79.799479   \n",
              "std       3.369578   31.972618      19.355807      15.952218  115.244002   \n",
              "min       0.000000    0.000000       0.000000       0.000000    0.000000   \n",
              "25%       1.000000   99.000000      62.000000       0.000000    0.000000   \n",
              "50%       3.000000  117.000000      72.000000      23.000000   30.500000   \n",
              "75%       6.000000  140.250000      80.000000      32.000000  127.250000   \n",
              "max      17.000000  199.000000     122.000000      99.000000  846.000000   \n",
              "\n",
              "              BMI  DiabetesPedigreeFunction         Age     Outcome  \n",
              "count  768.000000                768.000000  768.000000  768.000000  \n",
              "mean    31.992578                  0.471876   33.240885    0.348958  \n",
              "std      7.884160                  0.331329   11.760232    0.476951  \n",
              "min      0.000000                  0.078000   21.000000    0.000000  \n",
              "25%     27.300000                  0.243750   24.000000    0.000000  \n",
              "50%     32.000000                  0.372500   29.000000    0.000000  \n",
              "75%     36.600000                  0.626250   41.000000    1.000000  \n",
              "max     67.100000                  2.420000   81.000000    1.000000  "
            ],
            "text/html": [
              "\n",
              "  <div id=\"df-eed26830-2aa5-43db-ae2f-b2425142a566\">\n",
              "    <div class=\"colab-df-container\">\n",
              "      <div>\n",
              "<style scoped>\n",
              "    .dataframe tbody tr th:only-of-type {\n",
              "        vertical-align: middle;\n",
              "    }\n",
              "\n",
              "    .dataframe tbody tr th {\n",
              "        vertical-align: top;\n",
              "    }\n",
              "\n",
              "    .dataframe thead th {\n",
              "        text-align: right;\n",
              "    }\n",
              "</style>\n",
              "<table border=\"1\" class=\"dataframe\">\n",
              "  <thead>\n",
              "    <tr style=\"text-align: right;\">\n",
              "      <th></th>\n",
              "      <th>Pregnancies</th>\n",
              "      <th>Glucose</th>\n",
              "      <th>BloodPressure</th>\n",
              "      <th>SkinThickness</th>\n",
              "      <th>Insulin</th>\n",
              "      <th>BMI</th>\n",
              "      <th>DiabetesPedigreeFunction</th>\n",
              "      <th>Age</th>\n",
              "      <th>Outcome</th>\n",
              "    </tr>\n",
              "  </thead>\n",
              "  <tbody>\n",
              "    <tr>\n",
              "      <th>count</th>\n",
              "      <td>768.000000</td>\n",
              "      <td>768.000000</td>\n",
              "      <td>768.000000</td>\n",
              "      <td>768.000000</td>\n",
              "      <td>768.000000</td>\n",
              "      <td>768.000000</td>\n",
              "      <td>768.000000</td>\n",
              "      <td>768.000000</td>\n",
              "      <td>768.000000</td>\n",
              "    </tr>\n",
              "    <tr>\n",
              "      <th>mean</th>\n",
              "      <td>3.845052</td>\n",
              "      <td>120.894531</td>\n",
              "      <td>69.105469</td>\n",
              "      <td>20.536458</td>\n",
              "      <td>79.799479</td>\n",
              "      <td>31.992578</td>\n",
              "      <td>0.471876</td>\n",
              "      <td>33.240885</td>\n",
              "      <td>0.348958</td>\n",
              "    </tr>\n",
              "    <tr>\n",
              "      <th>std</th>\n",
              "      <td>3.369578</td>\n",
              "      <td>31.972618</td>\n",
              "      <td>19.355807</td>\n",
              "      <td>15.952218</td>\n",
              "      <td>115.244002</td>\n",
              "      <td>7.884160</td>\n",
              "      <td>0.331329</td>\n",
              "      <td>11.760232</td>\n",
              "      <td>0.476951</td>\n",
              "    </tr>\n",
              "    <tr>\n",
              "      <th>min</th>\n",
              "      <td>0.000000</td>\n",
              "      <td>0.000000</td>\n",
              "      <td>0.000000</td>\n",
              "      <td>0.000000</td>\n",
              "      <td>0.000000</td>\n",
              "      <td>0.000000</td>\n",
              "      <td>0.078000</td>\n",
              "      <td>21.000000</td>\n",
              "      <td>0.000000</td>\n",
              "    </tr>\n",
              "    <tr>\n",
              "      <th>25%</th>\n",
              "      <td>1.000000</td>\n",
              "      <td>99.000000</td>\n",
              "      <td>62.000000</td>\n",
              "      <td>0.000000</td>\n",
              "      <td>0.000000</td>\n",
              "      <td>27.300000</td>\n",
              "      <td>0.243750</td>\n",
              "      <td>24.000000</td>\n",
              "      <td>0.000000</td>\n",
              "    </tr>\n",
              "    <tr>\n",
              "      <th>50%</th>\n",
              "      <td>3.000000</td>\n",
              "      <td>117.000000</td>\n",
              "      <td>72.000000</td>\n",
              "      <td>23.000000</td>\n",
              "      <td>30.500000</td>\n",
              "      <td>32.000000</td>\n",
              "      <td>0.372500</td>\n",
              "      <td>29.000000</td>\n",
              "      <td>0.000000</td>\n",
              "    </tr>\n",
              "    <tr>\n",
              "      <th>75%</th>\n",
              "      <td>6.000000</td>\n",
              "      <td>140.250000</td>\n",
              "      <td>80.000000</td>\n",
              "      <td>32.000000</td>\n",
              "      <td>127.250000</td>\n",
              "      <td>36.600000</td>\n",
              "      <td>0.626250</td>\n",
              "      <td>41.000000</td>\n",
              "      <td>1.000000</td>\n",
              "    </tr>\n",
              "    <tr>\n",
              "      <th>max</th>\n",
              "      <td>17.000000</td>\n",
              "      <td>199.000000</td>\n",
              "      <td>122.000000</td>\n",
              "      <td>99.000000</td>\n",
              "      <td>846.000000</td>\n",
              "      <td>67.100000</td>\n",
              "      <td>2.420000</td>\n",
              "      <td>81.000000</td>\n",
              "      <td>1.000000</td>\n",
              "    </tr>\n",
              "  </tbody>\n",
              "</table>\n",
              "</div>\n",
              "      <button class=\"colab-df-convert\" onclick=\"convertToInteractive('df-eed26830-2aa5-43db-ae2f-b2425142a566')\"\n",
              "              title=\"Convert this dataframe to an interactive table.\"\n",
              "              style=\"display:none;\">\n",
              "        \n",
              "  <svg xmlns=\"http://www.w3.org/2000/svg\" height=\"24px\"viewBox=\"0 0 24 24\"\n",
              "       width=\"24px\">\n",
              "    <path d=\"M0 0h24v24H0V0z\" fill=\"none\"/>\n",
              "    <path d=\"M18.56 5.44l.94 2.06.94-2.06 2.06-.94-2.06-.94-.94-2.06-.94 2.06-2.06.94zm-11 1L8.5 8.5l.94-2.06 2.06-.94-2.06-.94L8.5 2.5l-.94 2.06-2.06.94zm10 10l.94 2.06.94-2.06 2.06-.94-2.06-.94-.94-2.06-.94 2.06-2.06.94z\"/><path d=\"M17.41 7.96l-1.37-1.37c-.4-.4-.92-.59-1.43-.59-.52 0-1.04.2-1.43.59L10.3 9.45l-7.72 7.72c-.78.78-.78 2.05 0 2.83L4 21.41c.39.39.9.59 1.41.59.51 0 1.02-.2 1.41-.59l7.78-7.78 2.81-2.81c.8-.78.8-2.07 0-2.86zM5.41 20L4 18.59l7.72-7.72 1.47 1.35L5.41 20z\"/>\n",
              "  </svg>\n",
              "      </button>\n",
              "      \n",
              "  <style>\n",
              "    .colab-df-container {\n",
              "      display:flex;\n",
              "      flex-wrap:wrap;\n",
              "      gap: 12px;\n",
              "    }\n",
              "\n",
              "    .colab-df-convert {\n",
              "      background-color: #E8F0FE;\n",
              "      border: none;\n",
              "      border-radius: 50%;\n",
              "      cursor: pointer;\n",
              "      display: none;\n",
              "      fill: #1967D2;\n",
              "      height: 32px;\n",
              "      padding: 0 0 0 0;\n",
              "      width: 32px;\n",
              "    }\n",
              "\n",
              "    .colab-df-convert:hover {\n",
              "      background-color: #E2EBFA;\n",
              "      box-shadow: 0px 1px 2px rgba(60, 64, 67, 0.3), 0px 1px 3px 1px rgba(60, 64, 67, 0.15);\n",
              "      fill: #174EA6;\n",
              "    }\n",
              "\n",
              "    [theme=dark] .colab-df-convert {\n",
              "      background-color: #3B4455;\n",
              "      fill: #D2E3FC;\n",
              "    }\n",
              "\n",
              "    [theme=dark] .colab-df-convert:hover {\n",
              "      background-color: #434B5C;\n",
              "      box-shadow: 0px 1px 3px 1px rgba(0, 0, 0, 0.15);\n",
              "      filter: drop-shadow(0px 1px 2px rgba(0, 0, 0, 0.3));\n",
              "      fill: #FFFFFF;\n",
              "    }\n",
              "  </style>\n",
              "\n",
              "      <script>\n",
              "        const buttonEl =\n",
              "          document.querySelector('#df-eed26830-2aa5-43db-ae2f-b2425142a566 button.colab-df-convert');\n",
              "        buttonEl.style.display =\n",
              "          google.colab.kernel.accessAllowed ? 'block' : 'none';\n",
              "\n",
              "        async function convertToInteractive(key) {\n",
              "          const element = document.querySelector('#df-eed26830-2aa5-43db-ae2f-b2425142a566');\n",
              "          const dataTable =\n",
              "            await google.colab.kernel.invokeFunction('convertToInteractive',\n",
              "                                                     [key], {});\n",
              "          if (!dataTable) return;\n",
              "\n",
              "          const docLinkHtml = 'Like what you see? Visit the ' +\n",
              "            '<a target=\"_blank\" href=https://colab.research.google.com/notebooks/data_table.ipynb>data table notebook</a>'\n",
              "            + ' to learn more about interactive tables.';\n",
              "          element.innerHTML = '';\n",
              "          dataTable['output_type'] = 'display_data';\n",
              "          await google.colab.output.renderOutput(dataTable, element);\n",
              "          const docLink = document.createElement('div');\n",
              "          docLink.innerHTML = docLinkHtml;\n",
              "          element.appendChild(docLink);\n",
              "        }\n",
              "      </script>\n",
              "    </div>\n",
              "  </div>\n",
              "  "
            ]
          },
          "metadata": {},
          "execution_count": 4
        }
      ]
    },
    {
      "cell_type": "code",
      "source": [
        "#veamos como se correlacionan dichos datos \n",
        "sns.heatmap(df.corr(), annot=True, fmt='.1g', vmin=0, vmax=1, cmap='plasma')"
      ],
      "metadata": {
        "colab": {
          "base_uri": "https://localhost:8080/",
          "height": 407
        },
        "id": "AtnNhBgXUvjM",
        "outputId": "0a91bf19-74ae-463c-938d-eb5e39037dfe"
      },
      "execution_count": null,
      "outputs": [
        {
          "output_type": "execute_result",
          "data": {
            "text/plain": [
              "<matplotlib.axes._subplots.AxesSubplot at 0x7f18d4ccfca0>"
            ]
          },
          "metadata": {},
          "execution_count": 5
        },
        {
          "output_type": "display_data",
          "data": {
            "text/plain": [
              "<Figure size 432x288 with 2 Axes>"
            ],
            "image/png": "[encoded data removed]"
          },
          "metadata": {
            "needs_background": "light"
          }
        }
      ]
    },
    {
      "cell_type": "code",
      "source": [
        "#dado la poca correlacion de las siguientes variables para el modelo  podemos quitarlas \n",
        "df_selected=df.drop(['BloodPressure','Insulin','DiabetesPedigreeFunction'],axis='columns')"
      ],
      "metadata": {
        "id": "FXcQZnHA-h6T"
      },
      "execution_count": null,
      "outputs": []
    },
    {
      "cell_type": "code",
      "source": [
        "from sklearn.preprocessing import QuantileTransformer\n",
        "x=df_selected\n",
        "quantile  = QuantileTransformer()\n",
        "X = quantile.fit_transform(x)\n",
        "df_new=quantile.transform(X)\n",
        "df_new=pd.DataFrame(X)\n",
        "df_new.columns =['Pregnancies', 'Glucose','SkinThickness','BMI','Age','Outcome']\n",
        "df_new.head()"
      ],
      "metadata": {
        "colab": {
          "base_uri": "https://localhost:8080/",
          "height": 296
        },
        "id": "ylVqGOOGBL8I",
        "outputId": "7c43af44-51af-4d3f-ca97-3cf57272598b"
      },
      "execution_count": null,
      "outputs": [
        {
          "output_type": "stream",
          "name": "stderr",
          "text": [
            "/usr/local/lib/python3.8/dist-packages/sklearn/preprocessing/_data.py:2590: UserWarning: n_quantiles (1000) is greater than the total number of samples (768). n_quantiles is set to n_samples.\n",
            "  warnings.warn(\n",
            "/usr/local/lib/python3.8/dist-packages/sklearn/base.py:450: UserWarning: X does not have valid feature names, but QuantileTransformer was fitted with feature names\n",
            "  warnings.warn(\n"
          ]
        },
        {
          "output_type": "execute_result",
          "data": {
            "text/plain": [
              "   Pregnancies   Glucose  SkinThickness       BMI       Age  Outcome\n",
              "0     0.747718  0.810300       0.801825  0.591265  0.889831      1.0\n",
              "1     0.232725  0.097784       0.644720  0.227510  0.558670      0.0\n",
              "2     0.863755  0.956975       0.000000  0.091917  0.585398      1.0\n",
              "3     0.232725  0.131030       0.505867  0.298566  0.000000      0.0\n",
              "4     0.000000  0.721643       0.801825  0.926988  0.606258      1.0"
            ],
            "text/html": [
              "\n",
              "  <div id=\"df-4eb06fc3-47dc-46a7-b0f2-630bf7cabae0\">\n",
              "    <div class=\"colab-df-container\">\n",
              "      <div>\n",
              "<style scoped>\n",
              "    .dataframe tbody tr th:only-of-type {\n",
              "        vertical-align: middle;\n",
              "    }\n",
              "\n",
              "    .dataframe tbody tr th {\n",
              "        vertical-align: top;\n",
              "    }\n",
              "\n",
              "    .dataframe thead th {\n",
              "        text-align: right;\n",
              "    }\n",
              "</style>\n",
              "<table border=\"1\" class=\"dataframe\">\n",
              "  <thead>\n",
              "    <tr style=\"text-align: right;\">\n",
              "      <th></th>\n",
              "      <th>Pregnancies</th>\n",
              "      <th>Glucose</th>\n",
              "      <th>SkinThickness</th>\n",
              "      <th>BMI</th>\n",
              "      <th>Age</th>\n",
              "      <th>Outcome</th>\n",
              "    </tr>\n",
              "  </thead>\n",
              "  <tbody>\n",
              "    <tr>\n",
              "      <th>0</th>\n",
              "      <td>0.747718</td>\n",
              "      <td>0.810300</td>\n",
              "      <td>0.801825</td>\n",
              "      <td>0.591265</td>\n",
              "      <td>0.889831</td>\n",
              "      <td>1.0</td>\n",
              "    </tr>\n",
              "    <tr>\n",
              "      <th>1</th>\n",
              "      <td>0.232725</td>\n",
              "      <td>0.097784</td>\n",
              "      <td>0.644720</td>\n",
              "      <td>0.227510</td>\n",
              "      <td>0.558670</td>\n",
              "      <td>0.0</td>\n",
              "    </tr>\n",
              "    <tr>\n",
              "      <th>2</th>\n",
              "      <td>0.863755</td>\n",
              "      <td>0.956975</td>\n",
              "      <td>0.000000</td>\n",
              "      <td>0.091917</td>\n",
              "      <td>0.585398</td>\n",
              "      <td>1.0</td>\n",
              "    </tr>\n",
              "    <tr>\n",
              "      <th>3</th>\n",
              "      <td>0.232725</td>\n",
              "      <td>0.131030</td>\n",
              "      <td>0.505867</td>\n",
              "      <td>0.298566</td>\n",
              "      <td>0.000000</td>\n",
              "      <td>0.0</td>\n",
              "    </tr>\n",
              "    <tr>\n",
              "      <th>4</th>\n",
              "      <td>0.000000</td>\n",
              "      <td>0.721643</td>\n",
              "      <td>0.801825</td>\n",
              "      <td>0.926988</td>\n",
              "      <td>0.606258</td>\n",
              "      <td>1.0</td>\n",
              "    </tr>\n",
              "  </tbody>\n",
              "</table>\n",
              "</div>\n",
              "      <button class=\"colab-df-convert\" onclick=\"convertToInteractive('df-4eb06fc3-47dc-46a7-b0f2-630bf7cabae0')\"\n",
              "              title=\"Convert this dataframe to an interactive table.\"\n",
              "              style=\"display:none;\">\n",
              "        \n",
              "  <svg xmlns=\"http://www.w3.org/2000/svg\" height=\"24px\"viewBox=\"0 0 24 24\"\n",
              "       width=\"24px\">\n",
              "    <path d=\"M0 0h24v24H0V0z\" fill=\"none\"/>\n",
              "    <path d=\"M18.56 5.44l.94 2.06.94-2.06 2.06-.94-2.06-.94-.94-2.06-.94 2.06-2.06.94zm-11 1L8.5 8.5l.94-2.06 2.06-.94-2.06-.94L8.5 2.5l-.94 2.06-2.06.94zm10 10l.94 2.06.94-2.06 2.06-.94-2.06-.94-.94-2.06-.94 2.06-2.06.94z\"/><path d=\"M17.41 7.96l-1.37-1.37c-.4-.4-.92-.59-1.43-.59-.52 0-1.04.2-1.43.59L10.3 9.45l-7.72 7.72c-.78.78-.78 2.05 0 2.83L4 21.41c.39.39.9.59 1.41.59.51 0 1.02-.2 1.41-.59l7.78-7.78 2.81-2.81c.8-.78.8-2.07 0-2.86zM5.41 20L4 18.59l7.72-7.72 1.47 1.35L5.41 20z\"/>\n",
              "  </svg>\n",
              "      </button>\n",
              "      \n",
              "  <style>\n",
              "    .colab-df-container {\n",
              "      display:flex;\n",
              "      flex-wrap:wrap;\n",
              "      gap: 12px;\n",
              "    }\n",
              "\n",
              "    .colab-df-convert {\n",
              "      background-color: #E8F0FE;\n",
              "      border: none;\n",
              "      border-radius: 50%;\n",
              "      cursor: pointer;\n",
              "      display: none;\n",
              "      fill: #1967D2;\n",
              "      height: 32px;\n",
              "      padding: 0 0 0 0;\n",
              "      width: 32px;\n",
              "    }\n",
              "\n",
              "    .colab-df-convert:hover {\n",
              "      background-color: #E2EBFA;\n",
              "      box-shadow: 0px 1px 2px rgba(60, 64, 67, 0.3), 0px 1px 3px 1px rgba(60, 64, 67, 0.15);\n",
              "      fill: #174EA6;\n",
              "    }\n",
              "\n",
              "    [theme=dark] .colab-df-convert {\n",
              "      background-color: #3B4455;\n",
              "      fill: #D2E3FC;\n",
              "    }\n",
              "\n",
              "    [theme=dark] .colab-df-convert:hover {\n",
              "      background-color: #434B5C;\n",
              "      box-shadow: 0px 1px 3px 1px rgba(0, 0, 0, 0.15);\n",
              "      filter: drop-shadow(0px 1px 2px rgba(0, 0, 0, 0.3));\n",
              "      fill: #FFFFFF;\n",
              "    }\n",
              "  </style>\n",
              "\n",
              "      <script>\n",
              "        const buttonEl =\n",
              "          document.querySelector('#df-4eb06fc3-47dc-46a7-b0f2-630bf7cabae0 button.colab-df-convert');\n",
              "        buttonEl.style.display =\n",
              "          google.colab.kernel.accessAllowed ? 'block' : 'none';\n",
              "\n",
              "        async function convertToInteractive(key) {\n",
              "          const element = document.querySelector('#df-4eb06fc3-47dc-46a7-b0f2-630bf7cabae0');\n",
              "          const dataTable =\n",
              "            await google.colab.kernel.invokeFunction('convertToInteractive',\n",
              "                                                     [key], {});\n",
              "          if (!dataTable) return;\n",
              "\n",
              "          const docLinkHtml = 'Like what you see? Visit the ' +\n",
              "            '<a target=\"_blank\" href=https://colab.research.google.com/notebooks/data_table.ipynb>data table notebook</a>'\n",
              "            + ' to learn more about interactive tables.';\n",
              "          element.innerHTML = '';\n",
              "          dataTable['output_type'] = 'display_data';\n",
              "          await google.colab.output.renderOutput(dataTable, element);\n",
              "          const docLink = document.createElement('div');\n",
              "          docLink.innerHTML = docLinkHtml;\n",
              "          element.appendChild(docLink);\n",
              "        }\n",
              "      </script>\n",
              "    </div>\n",
              "  </div>\n",
              "  "
            ]
          },
          "metadata": {},
          "execution_count": 7
        }
      ]
    },
    {
      "cell_type": "markdown",
      "source": [
        "###Ahora hagamos la división de los datos "
      ],
      "metadata": {
        "id": "RS5kgFSpBZaO"
      }
    },
    {
      "cell_type": "code",
      "source": [
        "#empezamos eligiendo los datos de entrenamiento y quitando dicha columna\n",
        "target_name='Outcome'\n",
        "y= df_new[target_name]\n",
        "X=df_new.drop(target_name,axis=1)\n",
        "X.head()"
      ],
      "metadata": {
        "colab": {
          "base_uri": "https://localhost:8080/",
          "height": 206
        },
        "id": "wRF2VvSDBY39",
        "outputId": "ef76c30c-ebff-4731-8378-aaa75e72678c"
      },
      "execution_count": null,
      "outputs": [
        {
          "output_type": "execute_result",
          "data": {
            "text/plain": [
              "   Pregnancies   Glucose  SkinThickness       BMI       Age\n",
              "0     0.747718  0.810300       0.801825  0.591265  0.889831\n",
              "1     0.232725  0.097784       0.644720  0.227510  0.558670\n",
              "2     0.863755  0.956975       0.000000  0.091917  0.585398\n",
              "3     0.232725  0.131030       0.505867  0.298566  0.000000\n",
              "4     0.000000  0.721643       0.801825  0.926988  0.606258"
            ],
            "text/html": [
              "\n",
              "  <div id=\"df-0cfcdc8f-ec02-45a3-8cff-bed1ce539216\">\n",
              "    <div class=\"colab-df-container\">\n",
              "      <div>\n",
              "<style scoped>\n",
              "    .dataframe tbody tr th:only-of-type {\n",
              "        vertical-align: middle;\n",
              "    }\n",
              "\n",
              "    .dataframe tbody tr th {\n",
              "        vertical-align: top;\n",
              "    }\n",
              "\n",
              "    .dataframe thead th {\n",
              "        text-align: right;\n",
              "    }\n",
              "</style>\n",
              "<table border=\"1\" class=\"dataframe\">\n",
              "  <thead>\n",
              "    <tr style=\"text-align: right;\">\n",
              "      <th></th>\n",
              "      <th>Pregnancies</th>\n",
              "      <th>Glucose</th>\n",
              "      <th>SkinThickness</th>\n",
              "      <th>BMI</th>\n",
              "      <th>Age</th>\n",
              "    </tr>\n",
              "  </thead>\n",
              "  <tbody>\n",
              "    <tr>\n",
              "      <th>0</th>\n",
              "      <td>0.747718</td>\n",
              "      <td>0.810300</td>\n",
              "      <td>0.801825</td>\n",
              "      <td>0.591265</td>\n",
              "      <td>0.889831</td>\n",
              "    </tr>\n",
              "    <tr>\n",
              "      <th>1</th>\n",
              "      <td>0.232725</td>\n",
              "      <td>0.097784</td>\n",
              "      <td>0.644720</td>\n",
              "      <td>0.227510</td>\n",
              "      <td>0.558670</td>\n",
              "    </tr>\n",
              "    <tr>\n",
              "      <th>2</th>\n",
              "      <td>0.863755</td>\n",
              "      <td>0.956975</td>\n",
              "      <td>0.000000</td>\n",
              "      <td>0.091917</td>\n",
              "      <td>0.585398</td>\n",
              "    </tr>\n",
              "    <tr>\n",
              "      <th>3</th>\n",
              "      <td>0.232725</td>\n",
              "      <td>0.131030</td>\n",
              "      <td>0.505867</td>\n",
              "      <td>0.298566</td>\n",
              "      <td>0.000000</td>\n",
              "    </tr>\n",
              "    <tr>\n",
              "      <th>4</th>\n",
              "      <td>0.000000</td>\n",
              "      <td>0.721643</td>\n",
              "      <td>0.801825</td>\n",
              "      <td>0.926988</td>\n",
              "      <td>0.606258</td>\n",
              "    </tr>\n",
              "  </tbody>\n",
              "</table>\n",
              "</div>\n",
              "      <button class=\"colab-df-convert\" onclick=\"convertToInteractive('df-0cfcdc8f-ec02-45a3-8cff-bed1ce539216')\"\n",
              "              title=\"Convert this dataframe to an interactive table.\"\n",
              "              style=\"display:none;\">\n",
              "        \n",
              "  <svg xmlns=\"http://www.w3.org/2000/svg\" height=\"24px\"viewBox=\"0 0 24 24\"\n",
              "       width=\"24px\">\n",
              "    <path d=\"M0 0h24v24H0V0z\" fill=\"none\"/>\n",
              "    <path d=\"M18.56 5.44l.94 2.06.94-2.06 2.06-.94-2.06-.94-.94-2.06-.94 2.06-2.06.94zm-11 1L8.5 8.5l.94-2.06 2.06-.94-2.06-.94L8.5 2.5l-.94 2.06-2.06.94zm10 10l.94 2.06.94-2.06 2.06-.94-2.06-.94-.94-2.06-.94 2.06-2.06.94z\"/><path d=\"M17.41 7.96l-1.37-1.37c-.4-.4-.92-.59-1.43-.59-.52 0-1.04.2-1.43.59L10.3 9.45l-7.72 7.72c-.78.78-.78 2.05 0 2.83L4 21.41c.39.39.9.59 1.41.59.51 0 1.02-.2 1.41-.59l7.78-7.78 2.81-2.81c.8-.78.8-2.07 0-2.86zM5.41 20L4 18.59l7.72-7.72 1.47 1.35L5.41 20z\"/>\n",
              "  </svg>\n",
              "      </button>\n",
              "      \n",
              "  <style>\n",
              "    .colab-df-container {\n",
              "      display:flex;\n",
              "      flex-wrap:wrap;\n",
              "      gap: 12px;\n",
              "    }\n",
              "\n",
              "    .colab-df-convert {\n",
              "      background-color: #E8F0FE;\n",
              "      border: none;\n",
              "      border-radius: 50%;\n",
              "      cursor: pointer;\n",
              "      display: none;\n",
              "      fill: #1967D2;\n",
              "      height: 32px;\n",
              "      padding: 0 0 0 0;\n",
              "      width: 32px;\n",
              "    }\n",
              "\n",
              "    .colab-df-convert:hover {\n",
              "      background-color: #E2EBFA;\n",
              "      box-shadow: 0px 1px 2px rgba(60, 64, 67, 0.3), 0px 1px 3px 1px rgba(60, 64, 67, 0.15);\n",
              "      fill: #174EA6;\n",
              "    }\n",
              "\n",
              "    [theme=dark] .colab-df-convert {\n",
              "      background-color: #3B4455;\n",
              "      fill: #D2E3FC;\n",
              "    }\n",
              "\n",
              "    [theme=dark] .colab-df-convert:hover {\n",
              "      background-color: #434B5C;\n",
              "      box-shadow: 0px 1px 3px 1px rgba(0, 0, 0, 0.15);\n",
              "      filter: drop-shadow(0px 1px 2px rgba(0, 0, 0, 0.3));\n",
              "      fill: #FFFFFF;\n",
              "    }\n",
              "  </style>\n",
              "\n",
              "      <script>\n",
              "        const buttonEl =\n",
              "          document.querySelector('#df-0cfcdc8f-ec02-45a3-8cff-bed1ce539216 button.colab-df-convert');\n",
              "        buttonEl.style.display =\n",
              "          google.colab.kernel.accessAllowed ? 'block' : 'none';\n",
              "\n",
              "        async function convertToInteractive(key) {\n",
              "          const element = document.querySelector('#df-0cfcdc8f-ec02-45a3-8cff-bed1ce539216');\n",
              "          const dataTable =\n",
              "            await google.colab.kernel.invokeFunction('convertToInteractive',\n",
              "                                                     [key], {});\n",
              "          if (!dataTable) return;\n",
              "\n",
              "          const docLinkHtml = 'Like what you see? Visit the ' +\n",
              "            '<a target=\"_blank\" href=https://colab.research.google.com/notebooks/data_table.ipynb>data table notebook</a>'\n",
              "            + ' to learn more about interactive tables.';\n",
              "          element.innerHTML = '';\n",
              "          dataTable['output_type'] = 'display_data';\n",
              "          await google.colab.output.renderOutput(dataTable, element);\n",
              "          const docLink = document.createElement('div');\n",
              "          docLink.innerHTML = docLinkHtml;\n",
              "          element.appendChild(docLink);\n",
              "        }\n",
              "      </script>\n",
              "    </div>\n",
              "  </div>\n",
              "  "
            ]
          },
          "metadata": {},
          "execution_count": 8
        }
      ]
    },
    {
      "cell_type": "code",
      "source": [
        "#lo dividiremos en 80% para entrenar y 20% para probar\n",
        "from sklearn.model_selection import train_test_split\n",
        "X_train, X_test, y_train, y_test= train_test_split(X,y,test_size=0.2,random_state=0)"
      ],
      "metadata": {
        "id": "USqwYk3xCdKo"
      },
      "execution_count": null,
      "outputs": []
    },
    {
      "cell_type": "markdown",
      "source": [
        "## **2. Descripción de los algoritmos**"
      ],
      "metadata": {
        "id": "wCweg1-vUZyM"
      }
    },
    {
      "cell_type": "markdown",
      "source": [
        "### Algoritmos paramétricos"
      ],
      "metadata": {
        "id": "Jt-agTa5WjzJ"
      }
    },
    {
      "cell_type": "markdown",
      "source": [
        "\n",
        "*  **Modelo de Bayes Naïve**: Es un modelo gráfico dirigido (y generativo) para\n",
        "clasificación de Aprendizaje Automatico, que se basan en una técnica de clasificación estadística llamado “teorema de Bayes”, el cual se calcula con una probabilidad posterior a que ocurra un cierto evento A, esto dado algunas probabilidades de eventos pasados, la formula de este calculo esta dado por lo siguiente:\n",
        "\n",
        "$$\\hat{y} = \\arg\\max_y p(y,x_1,x_2,...,x_d; \\theta) = \\arg\\max_y \\prod_{i=1}^d p(x_i|y)p(y)$$\n",
        "\n",
        "* **Modelo de Regresión logística**: Los modelos de regresion logisticos son modelos de regresión que permiten estudiar si una variable binomial depende, o no, de otra u otras variables no necesariamente binomiales, esto para predecir la presencia o ausencia de una característica o resultado según las variables dadas, este modedo es usualmente usado en las ciencias médicas y sociales por ello se acopla a nuestro proyecto, la formula de este calculo esta dado por lo siguiente:\n",
        "\n",
        "$$\\hat{y} = \\arg\\max_y p(y|x_1,...,x_d; \\theta) = \\arg\\max_y \\frac{1}{1+exp\\{-\\sum_{i=1}^d \\theta_i x_i + \\theta_0\\}}$$\n",
        "\n",
        "* **Modelo de Redes Neuronales**: Los Modelos de Redes Neuronales tratan de resolver problemas intuyendo como funciona la lógica humana, en este caso usaremos una de las redes neuronales más simples llamada FeedForward, donde basicamente tendremos un conjunto de capas que contendrán nuestras 'neuronas' cada una de estas capas aprenderá una representación de nuestros datos para luego poder clasificarlos. \n"
      ],
      "metadata": {
        "id": "VDKpdJmiVrQ_"
      }
    },
    {
      "cell_type": "markdown",
      "source": [
        "### Algoritmos no paramétricos\n"
      ],
      "metadata": {
        "id": "oxRhMIxNWp1n"
      }
    },
    {
      "cell_type": "markdown",
      "source": [
        "* **Modelo de árbol de decisión**: Un árbol de decisión es un árbol cuyos nodos representan valores de los rasgos de los datos; los\n",
        "hijos de los nodos responden a decisiones sobre estos valores y las hojas del árbol son clases a\n",
        "las que pueden pertenecer los datos, asi mismo el algoritmo a seguir en este modelo es el siguiente:\n",
        "\n",
        "$$Gini = 1 - \\sum_{i=1}^c p_i^2$$\n",
        "\n",
        "\n",
        "* **Modelo K-NN (K Nearest Neighbors)**: El algoritmo de k vecinos más cercanos (k-NN) es un algoritmo no paramétrico de clasificación y aprendizaje supervisado, que estima la clase $\\hat y$ de un dato $x$ en base a los vecinos más cercanos a este ; es decir:\n",
        "$$\\hat y=\\arg\\max_{x^´\\to y}\\{||x-x^{(i)}||_p\\}^k_{i=1},$$\n",
        "donde se cumple la condición:\n",
        "$$||x-x^{(1)}||_p\\le||x-x^{(2)}||_p\\le\\ldots\\le||x-x^{(N)}||_p.$$\n",
        "Y los parámetros del algoritmo son los $k$ vecinos a considerar, y $p$ que determina la métria a utilizar."
      ],
      "metadata": {
        "id": "7TI9QoqVWy5f"
      }
    },
    {
      "cell_type": "markdown",
      "source": [
        "## **3. Implementación de los algoritmos**"
      ],
      "metadata": {
        "id": "ja4BbhwtUj8D"
      }
    },
    {
      "cell_type": "code",
      "source": [
        "from sklearn.linear_model import LogisticRegression\n",
        "from sklearn.naive_bayes import GaussianNB\n",
        "from sklearn.tree import DecisionTreeClassifier\n",
        "from sklearn.metrics import classification_report,confusion_matrix"
      ],
      "metadata": {
        "id": "B-o-k-JzV5jn"
      },
      "execution_count": null,
      "outputs": []
    },
    {
      "cell_type": "markdown",
      "source": [
        "###Bayes Naïve"
      ],
      "metadata": {
        "id": "W7zECki6Hhxr"
      }
    },
    {
      "cell_type": "code",
      "source": [
        "from sklearn.naive_bayes import GaussianNB\n",
        "from sklearn.model_selection import GridSearchCV\n",
        "from sklearn.metrics import f1_score, precision_score, recall_score\n",
        "\n",
        "param_grid_nb = {\n",
        "    'var_smoothing': np.logspace(0,-2, num=100)\n",
        "}\n",
        "nbModel_grid = GridSearchCV(estimator=GaussianNB(), param_grid=param_grid_nb, verbose=1, cv=10, n_jobs=-1)"
      ],
      "metadata": {
        "id": "sRFyAu8RHhPg"
      },
      "execution_count": null,
      "outputs": []
    },
    {
      "cell_type": "code",
      "source": [
        "nbModel_grid.fit(X_train, y_train).best_params_"
      ],
      "metadata": {
        "colab": {
          "base_uri": "https://localhost:8080/"
        },
        "id": "txgcP-hg7vf8",
        "outputId": "09a4a42b-ad8c-4148-e2d0-471dae74cac2"
      },
      "execution_count": null,
      "outputs": [
        {
          "output_type": "stream",
          "name": "stdout",
          "text": [
            "Fitting 10 folds for each of 100 candidates, totalling 1000 fits\n"
          ]
        },
        {
          "output_type": "execute_result",
          "data": {
            "text/plain": [
              "{'var_smoothing': 0.3944206059437655}"
            ]
          },
          "metadata": {},
          "execution_count": 48
        }
      ]
    },
    {
      "cell_type": "code",
      "source": [
        "best_model_nb = GaussianNB(var_smoothing =  0.3944206059437655)"
      ],
      "metadata": {
        "id": "tdDnnJh9H0Qd"
      },
      "execution_count": null,
      "outputs": []
    },
    {
      "cell_type": "code",
      "source": [
        "best_model_nb.fit(X_train,y_train)"
      ],
      "metadata": {
        "colab": {
          "base_uri": "https://localhost:8080/"
        },
        "id": "ZYRuD0_W8ZRj",
        "outputId": "264130ca-e1e6-4748-b0cd-1c1228a433c4"
      },
      "execution_count": null,
      "outputs": [
        {
          "output_type": "execute_result",
          "data": {
            "text/plain": [
              "GaussianNB(var_smoothing=0.3944206059437655)"
            ]
          },
          "metadata": {},
          "execution_count": 54
        }
      ]
    },
    {
      "cell_type": "markdown",
      "source": [
        "####Evaluación de *Bayes Naïve*"
      ],
      "metadata": {
        "id": "uJLh60gOc1jH"
      }
    },
    {
      "cell_type": "markdown",
      "source": [
        "Para evaluar cada uno de los resultados de cada métrica, utilizamos las métricas usuales:\n",
        "\n",
        "* Precisión: $$Prec = \\frac{TP}{TP+TN}$$\n",
        "* Exahustividad: $$Rec = \\frac{TP}{TP+FN}$$\n",
        "* Métrica F1: $$F_1 = \\frac{2 Prec*Rec}{Prec + Rec}$$\n",
        "\n",
        "Así como los promedios macro y pesado de cada algoritmo."
      ],
      "metadata": {
        "id": "Wu5bJcaOdPJ-"
      }
    },
    {
      "cell_type": "code",
      "source": [
        "nb_pred=best_model_nb.predict(X_test)"
      ],
      "metadata": {
        "id": "QUeOS07wH4KA"
      },
      "execution_count": null,
      "outputs": []
    },
    {
      "cell_type": "markdown",
      "source": [
        "Así que, por el método *Bayes Naïve* obtenemos el siguiente resultado:"
      ],
      "metadata": {
        "id": "fNw0NBWTdk5E"
      }
    },
    {
      "cell_type": "code",
      "source": [
        "print(\"Classification Report is:\\n\",classification_report(y_test,nb_pred))\n",
        "print(\"\\n F1:\\n\",f1_score(y_test,nb_pred))\n",
        "print(\"\\n Precision score is:\\n\",precision_score(y_test,nb_pred))\n",
        "print(\"\\n Recall score is:\\n\",recall_score(y_test,nb_pred))\n",
        "print(\"\\n Confusion Matrix:\\n\")\n",
        "sns.heatmap(confusion_matrix(y_test,nb_pred),annot=True)"
      ],
      "metadata": {
        "colab": {
          "base_uri": "https://localhost:8080/",
          "height": 664
        },
        "id": "BgymLMInH-Df",
        "outputId": "d31a262d-2eb4-42bb-96cb-89755d3f6d8c"
      },
      "execution_count": null,
      "outputs": [
        {
          "output_type": "stream",
          "name": "stdout",
          "text": [
            "Classification Report is:\n",
            "               precision    recall  f1-score   support\n",
            "\n",
            "         0.0       0.82      0.87      0.84       107\n",
            "         1.0       0.65      0.55      0.60        47\n",
            "\n",
            "    accuracy                           0.77       154\n",
            "   macro avg       0.73      0.71      0.72       154\n",
            "weighted avg       0.77      0.77      0.77       154\n",
            "\n",
            "\n",
            " F1:\n",
            " 0.5977011494252874\n",
            "\n",
            " Precision score is:\n",
            " 0.65\n",
            "\n",
            " Recall score is:\n",
            " 0.5531914893617021\n",
            "\n",
            " Confusion Matrix:\n",
            "\n"
          ]
        },
        {
          "output_type": "execute_result",
          "data": {
            "text/plain": [
              "<matplotlib.axes._subplots.AxesSubplot at 0x7f18cacae5b0>"
            ]
          },
          "metadata": {},
          "execution_count": 93
        },
        {
          "output_type": "display_data",
          "data": {
            "text/plain": [
              "<Figure size 432x288 with 2 Axes>"
            ],
            "image/png": "[encoded data removed]"
          },
          "metadata": {
            "needs_background": "light"
          }
        }
      ]
    },
    {
      "cell_type": "markdown",
      "source": [
        "###Regresión logística "
      ],
      "metadata": {
        "id": "AMN-273OFHJM"
      }
    },
    {
      "cell_type": "code",
      "source": [
        "from sklearn.linear_model import LogisticRegression\n",
        "from sklearn.metrics import classification_report,confusion_matrix\n",
        "from sklearn.metrics import f1_score, precision_score, recall_score,accuracy_score"
      ],
      "metadata": {
        "id": "hJtoELuBECQJ"
      },
      "execution_count": null,
      "outputs": []
    },
    {
      "cell_type": "code",
      "source": [
        "reg = LogisticRegression()\n",
        "reg.fit(X_train,y_train)"
      ],
      "metadata": {
        "id": "NGCtW9oDFhG1",
        "colab": {
          "base_uri": "https://localhost:8080/"
        },
        "outputId": "f585f640-6b19-4b9a-d297-44c3de5640fb"
      },
      "execution_count": null,
      "outputs": [
        {
          "output_type": "execute_result",
          "data": {
            "text/plain": [
              "LogisticRegression()"
            ]
          },
          "metadata": {},
          "execution_count": 16
        }
      ]
    },
    {
      "cell_type": "markdown",
      "source": [
        "#### Evaluación de *Regresión logística*"
      ],
      "metadata": {
        "id": "mOzlFwcQewLM"
      }
    },
    {
      "cell_type": "code",
      "source": [
        "lr_pred=reg.predict(X_test)"
      ],
      "metadata": {
        "id": "fZzwNnYoFlst"
      },
      "execution_count": null,
      "outputs": []
    },
    {
      "cell_type": "markdown",
      "source": [
        "De método *Regresión logística* se obtiene:"
      ],
      "metadata": {
        "id": "eymI2M1gd0fn"
      }
    },
    {
      "cell_type": "code",
      "source": [
        "print(\"Classification Report is:\\n\",classification_report(y_test,lr_pred))\n",
        "print(\"\\n F1:\\n\",f1_score(y_test,lr_pred))\n",
        "print(\"\\n Precision score is:\\n\",precision_score(y_test,lr_pred))\n",
        "print(\"\\n Recall score is:\\n\",recall_score(y_test,lr_pred))\n",
        "print(\"\\n Confusion Matrix:\\n\")\n",
        "sns.heatmap(confusion_matrix(y_test,lr_pred),annot=True)"
      ],
      "metadata": {
        "id": "nIO3bC5nFqPL",
        "colab": {
          "base_uri": "https://localhost:8080/",
          "height": 664
        },
        "outputId": "64519611-dc1d-478f-e92f-329b521a236c"
      },
      "execution_count": null,
      "outputs": [
        {
          "output_type": "stream",
          "name": "stdout",
          "text": [
            "Classification Report is:\n",
            "               precision    recall  f1-score   support\n",
            "\n",
            "         0.0       0.82      0.89      0.85       107\n",
            "         1.0       0.68      0.55      0.61        47\n",
            "\n",
            "    accuracy                           0.79       154\n",
            "   macro avg       0.75      0.72      0.73       154\n",
            "weighted avg       0.78      0.79      0.78       154\n",
            "\n",
            "\n",
            " F1:\n",
            " 0.611764705882353\n",
            "\n",
            " Precision score is:\n",
            " 0.6842105263157895\n",
            "\n",
            " Recall score is:\n",
            " 0.5531914893617021\n",
            "\n",
            " Confusion Matrix:\n",
            "\n"
          ]
        },
        {
          "output_type": "execute_result",
          "data": {
            "text/plain": [
              "<matplotlib.axes._subplots.AxesSubplot at 0x7f18cad4d160>"
            ]
          },
          "metadata": {},
          "execution_count": 92
        },
        {
          "output_type": "display_data",
          "data": {
            "text/plain": [
              "<Figure size 432x288 with 2 Axes>"
            ],
            "image/png": "[encoded data removed]"
          },
          "metadata": {
            "needs_background": "light"
          }
        }
      ]
    },
    {
      "cell_type": "markdown",
      "source": [
        "### Modelo de Árbol de decisión"
      ],
      "metadata": {
        "id": "eXsQFsWnJAiC"
      }
    },
    {
      "cell_type": "code",
      "source": [
        "from sklearn.tree import DecisionTreeClassifier\n",
        "from sklearn import tree\n",
        "from sklearn.metrics import classification_report,confusion_matrix\n",
        "from sklearn.metrics import classification_report,confusion_matrix\n",
        "from sklearn.metrics import f1_score, precision_score, recall_score\n",
        "from sklearn.model_selection import GridSearchCV\n",
        "dt = DecisionTreeClassifier(random_state=42)"
      ],
      "metadata": {
        "id": "5fIO2FdHJNvt"
      },
      "execution_count": null,
      "outputs": []
    },
    {
      "cell_type": "code",
      "source": [
        "params = {\n",
        "    'max_depth': [5, 10, 20,25],\n",
        "    'min_samples_leaf': [10, 20, 50, 100,120],\n",
        "    'criterion': [\"gini\", \"entropy\"]}"
      ],
      "metadata": {
        "id": "PwOvQApwJR50"
      },
      "execution_count": null,
      "outputs": []
    },
    {
      "cell_type": "code",
      "source": [
        "grid_search = GridSearchCV(estimator=dt, \n",
        "                           param_grid=params, \n",
        "                           cv=4, n_jobs=-1, verbose=1, scoring = \"accuracy\")"
      ],
      "metadata": {
        "id": "rlmBuK4NJgby"
      },
      "execution_count": null,
      "outputs": []
    },
    {
      "cell_type": "code",
      "source": [
        "grid_search.fit(X_train, y_train).best_params_"
      ],
      "metadata": {
        "id": "m4nle-XjJisF",
        "colab": {
          "base_uri": "https://localhost:8080/"
        },
        "outputId": "a20cc138-3b5c-4481-ff96-d5bdcd358c52"
      },
      "execution_count": null,
      "outputs": [
        {
          "output_type": "stream",
          "name": "stdout",
          "text": [
            "Fitting 4 folds for each of 40 candidates, totalling 160 fits\n"
          ]
        },
        {
          "output_type": "execute_result",
          "data": {
            "text/plain": [
              "{'criterion': 'gini', 'max_depth': 5, 'min_samples_leaf': 50}"
            ]
          },
          "metadata": {},
          "execution_count": 79
        }
      ]
    },
    {
      "cell_type": "code",
      "source": [
        "best_model_dt = DecisionTreeClassifier(random_state=42,criterion= 'gini', max_depth = 5, min_samples_leaf = 50) "
      ],
      "metadata": {
        "id": "Lp5IGAOn9RAk"
      },
      "execution_count": null,
      "outputs": []
    },
    {
      "cell_type": "code",
      "source": [
        "best_model_dt.fit(X_train,y_train)"
      ],
      "metadata": {
        "colab": {
          "base_uri": "https://localhost:8080/"
        },
        "id": "Ic1b-Nll9Rkd",
        "outputId": "465fdd89-b13e-4237-ca3d-fabc18a98725"
      },
      "execution_count": null,
      "outputs": [
        {
          "output_type": "execute_result",
          "data": {
            "text/plain": [
              "DecisionTreeClassifier(max_depth=5, min_samples_leaf=50, random_state=42)"
            ]
          },
          "metadata": {},
          "execution_count": 83
        }
      ]
    },
    {
      "cell_type": "markdown",
      "source": [
        "#### Evaluación de *Árboles de desición*\n"
      ],
      "metadata": {
        "id": "njsRWcYrfAZL"
      }
    },
    {
      "cell_type": "code",
      "source": [
        "dt_pred=best_model_dt.predict(X_test)"
      ],
      "metadata": {
        "id": "AXhbLI8kfdh1"
      },
      "execution_count": null,
      "outputs": []
    },
    {
      "cell_type": "markdown",
      "source": [
        "Por *Árboles de desición* llegamos a que:"
      ],
      "metadata": {
        "id": "8NG9pWUmd8Lz"
      }
    },
    {
      "cell_type": "code",
      "source": [
        "print(\"Classification Report is:\\n\",classification_report(y_test,dt_pred))\n",
        "print(\"\\n F1:\\n\",f1_score(y_test,dt_pred))\n",
        "print(\"\\n Precision score is:\\n\",precision_score(y_test,dt_pred))\n",
        "print(\"\\n Recall score is:\\n\",recall_score(y_test,dt_pred))\n",
        "print(\"\\n Confusion Matrix:\\n\")\n",
        "sns.heatmap(confusion_matrix(y_test,dt_pred),annot=True)"
      ],
      "metadata": {
        "id": "hzp8qPHZJo5P",
        "colab": {
          "base_uri": "https://localhost:8080/",
          "height": 666
        },
        "outputId": "5c9d30f8-b472-4e8e-922d-f9d9048c661d"
      },
      "execution_count": null,
      "outputs": [
        {
          "output_type": "stream",
          "name": "stdout",
          "text": [
            "Classification Report is:\n",
            "               precision    recall  f1-score   support\n",
            "\n",
            "         0.0       0.80      0.94      0.86       107\n",
            "         1.0       0.78      0.45      0.57        47\n",
            "\n",
            "    accuracy                           0.79       154\n",
            "   macro avg       0.79      0.70      0.72       154\n",
            "weighted avg       0.79      0.79      0.77       154\n",
            "\n",
            "\n",
            " F1:\n",
            " 0.5675675675675675\n",
            "\n",
            " Precision score is:\n",
            " 0.7777777777777778\n",
            "\n",
            " Recall score is:\n",
            " 0.44680851063829785\n",
            "\n",
            " Confusion Matrix:\n",
            "\n"
          ]
        },
        {
          "output_type": "execute_result",
          "data": {
            "text/plain": [
              "<matplotlib.axes._subplots.AxesSubplot at 0x7f18cadc4a90>"
            ]
          },
          "metadata": {},
          "execution_count": 91
        },
        {
          "output_type": "display_data",
          "data": {
            "text/plain": [
              "<Figure size 432x288 with 2 Axes>"
            ],
            "image/png": "[encoded data removed]"
          },
          "metadata": {
            "needs_background": "light"
          }
        }
      ]
    },
    {
      "cell_type": "markdown",
      "source": [
        "### K-NN"
      ],
      "metadata": {
        "id": "U2S6BPEoV4ev"
      }
    },
    {
      "cell_type": "code",
      "source": [
        "from sklearn.neighbors import KNeighborsClassifier\n",
        "from sklearn.model_selection import RepeatedStratifiedKFold\n",
        "from sklearn.metrics import classification_report,confusion_matrix\n",
        "from sklearn.model_selection import GridSearchCV"
      ],
      "metadata": {
        "id": "SH18G2zxV_uY"
      },
      "execution_count": null,
      "outputs": []
    },
    {
      "cell_type": "code",
      "source": [
        "#Lista de hiperparametros para realizar la búsqueda\n",
        "knn= KNeighborsClassifier()\n",
        "n_neighbors = list(range(15,25))\n",
        "p=[1,2]\n",
        "weights = ['uniform', 'distance']\n",
        "metric = ['euclidean', 'manhattan', 'minkowski']\n",
        "\n",
        "# Los convertimos en diccionario (asi lo requiere GridSearchCV)\n",
        "hyperparameters = dict(n_neighbors=n_neighbors, p=p,weights=weights,metric=metric)\n",
        "\n",
        "# Creamos y obtenemos el modelo para encontrar los mejores hiperparametros\n",
        "cv = RepeatedStratifiedKFold(n_splits=10, n_repeats=3, random_state=1)\n",
        "grid_search = GridSearchCV(estimator=knn, param_grid=hyperparameters, n_jobs=-1, cv=cv, scoring='f1',error_score=0)"
      ],
      "metadata": {
        "id": "s7s-0F14S2W4"
      },
      "execution_count": null,
      "outputs": []
    },
    {
      "cell_type": "code",
      "source": [
        "best_model_knn = grid_search.fit(X_train,y_train)"
      ],
      "metadata": {
        "id": "T-gHx5pXS9Ph"
      },
      "execution_count": null,
      "outputs": []
    },
    {
      "cell_type": "code",
      "source": [
        "# Valores encontrados\n",
        "print('Best leaf_size:', best_model_knn.best_estimator_.get_params()['leaf_size'])\n",
        "print('Best p:', best_model_knn.best_estimator_.get_params()['p'])\n",
        "print('Best n_neighbors:', best_model_knn.best_estimator_.get_params()['n_neighbors'])"
      ],
      "metadata": {
        "id": "7xan63ECTBh2",
        "colab": {
          "base_uri": "https://localhost:8080/"
        },
        "outputId": "2542292c-349e-4899-97b0-7af65fb1373c"
      },
      "execution_count": null,
      "outputs": [
        {
          "output_type": "stream",
          "name": "stdout",
          "text": [
            "Best leaf_size: 30\n",
            "Best p: 1\n",
            "Best n_neighbors: 15\n"
          ]
        }
      ]
    },
    {
      "cell_type": "markdown",
      "source": [
        "#### Evaluación de *K-NN*"
      ],
      "metadata": {
        "id": "X2-IEE4GfI6v"
      }
    },
    {
      "cell_type": "code",
      "source": [
        "#Predict testing set\n",
        "knn_pred = best_model_knn.predict(X_test)"
      ],
      "metadata": {
        "id": "Q3PdgchhTGm0"
      },
      "execution_count": null,
      "outputs": []
    },
    {
      "cell_type": "markdown",
      "source": [
        "Y por el método *K-NN* se tiene que:"
      ],
      "metadata": {
        "id": "qzFnjCMNeHSH"
      }
    },
    {
      "cell_type": "code",
      "source": [
        "print(\"Classification Report is:\\n\",classification_report(y_test,knn_pred))\n",
        "print(\"\\n F1:\\n\",f1_score(y_test,knn_pred))\n",
        "print(\"\\n Precision score is:\\n\",precision_score(y_test,knn_pred))\n",
        "print(\"\\n Recall score is:\\n\",recall_score(y_test,knn_pred))\n",
        "print(\"\\n Confusion Matrix:\\n\")\n",
        "sns.heatmap(confusion_matrix(y_test,knn_pred),annot=True)"
      ],
      "metadata": {
        "id": "qFKuJvbPTMQs",
        "colab": {
          "base_uri": "https://localhost:8080/",
          "height": 664
        },
        "outputId": "581d594b-a9c1-4586-ab25-d8fc41c309fd"
      },
      "execution_count": null,
      "outputs": [
        {
          "output_type": "stream",
          "name": "stdout",
          "text": [
            "Classification Report is:\n",
            "               precision    recall  f1-score   support\n",
            "\n",
            "         0.0       0.83      0.91      0.87       107\n",
            "         1.0       0.73      0.57      0.64        47\n",
            "\n",
            "    accuracy                           0.81       154\n",
            "   macro avg       0.78      0.74      0.75       154\n",
            "weighted avg       0.80      0.81      0.80       154\n",
            "\n",
            "\n",
            " F1:\n",
            " 0.6428571428571429\n",
            "\n",
            " Precision score is:\n",
            " 0.7297297297297297\n",
            "\n",
            " Recall score is:\n",
            " 0.574468085106383\n",
            "\n",
            " Confusion Matrix:\n",
            "\n"
          ]
        },
        {
          "output_type": "execute_result",
          "data": {
            "text/plain": [
              "<matplotlib.axes._subplots.AxesSubplot at 0x7f18cade5f10>"
            ]
          },
          "metadata": {},
          "execution_count": 90
        },
        {
          "output_type": "display_data",
          "data": {
            "text/plain": [
              "<Figure size 432x288 with 2 Axes>"
            ],
            "image/png": "[encoded data removed]"
          },
          "metadata": {
            "needs_background": "light"
          }
        }
      ]
    },
    {
      "cell_type": "markdown",
      "source": [
        "### Red neuronal feed forward"
      ],
      "metadata": {
        "id": "RiddldS5GOas"
      }
    },
    {
      "cell_type": "markdown",
      "source": [
        "Lo que haremos en esta sección, será encontrar una red neuronal feed forward que resuelva nuestro problema. Lidiamos con un problema de clasificación binaria y vectores de datos numéricos"
      ],
      "metadata": {
        "id": "UonZiaxvvS3Q"
      }
    },
    {
      "cell_type": "markdown",
      "source": [
        "Al Usar MLPClassifier vamos a desarrollar una red neuronal del perceptrón multicapa (por ello el nombre de MLP: Multi-layer Perceptron), donde optimizaremos el error de la entropía cruzada binaria."
      ],
      "metadata": {
        "id": "N4aVzoFgvdww"
      }
    },
    {
      "cell_type": "code",
      "source": [
        "from sklearn.neural_network import MLPClassifier"
      ],
      "metadata": {
        "id": "gBvcWhXVGMQd"
      },
      "execution_count": null,
      "outputs": []
    },
    {
      "cell_type": "markdown",
      "source": [
        "Sabemos que las redes neuronales dependen mucho de los datos de entrada y siempre es una buena práctica el normalizar la entrada para un mejor resultado\n",
        "\n"
      ],
      "metadata": {
        "id": "a74sfrYIv6zW"
      }
    },
    {
      "cell_type": "code",
      "source": [
        "from sklearn.preprocessing import StandardScaler  \n",
        "scaler = StandardScaler()  \n",
        "scaler.fit(X_train)  \n",
        "# Creamos nuestros datos normalizados\n",
        "X_train_c = scaler.transform(X_train).copy()  \n",
        "# Aplicamos la misma transformación a los datos de salida\n",
        "X_test_c = scaler.transform(X_test).copy()"
      ],
      "metadata": {
        "id": "KcKUFt56PsXf"
      },
      "execution_count": null,
      "outputs": []
    },
    {
      "cell_type": "markdown",
      "source": [
        "Dado que tenemos que definir cuantas capas ocultas y unidades por capa querremos para el modelo, haremos una busqueda en malla (Search Grid) para obtener los mejores parámetros (en este caso buscaremos en redes neuronales de la forma i unidades ocultas y k capas ocultas)"
      ],
      "metadata": {
        "id": "yZ5syyy-wQ1Z"
      }
    },
    {
      "cell_type": "code",
      "source": [
        "# Aqui correremos para muchas configuraciones (estamo)\n",
        "maxi,maxj = 0,0\n",
        "val = 0\n",
        "for i in range(1,10):\n",
        "    for k in range(1,30):\n",
        "        capas = i*np.ones(k, dtype = int).ravel()\n",
        "        clf = MLPClassifier(solver='lbfgs', alpha=1e-5, activation = 'relu', learning_rate='constant', learning_rate_init=1e-3, \n",
        "                      max_iter = 10000, verbose = False, early_stopping = True, n_iter_no_change = 50,  validation_fraction = 0.1,\n",
        "                    hidden_layer_sizes= capas, random_state=1)\n",
        "        clf.fit(X_train_c,y_train)\n",
        "        mlp_pred = clf.predict(X_test_c)\n",
        "        z = f1_score(y_test,mlp_pred)\n",
        "        if z > val:\n",
        "            maxi = k\n",
        "            maxj = i\n",
        "            val = z\n",
        "        print('tenemos:{},{},{}'.format(maxj,maxi,val))"
      ],
      "metadata": {
        "colab": {
          "base_uri": "https://localhost:8080/"
        },
        "id": "GJM8UtB3P9QZ",
        "outputId": "474e3ab9-d751-4760-d202-222727d82f77"
      },
      "execution_count": null,
      "outputs": [
        {
          "output_type": "stream",
          "name": "stdout",
          "text": [
            "tenemos:1,1,0.5977011494252874\n",
            "tenemos:1,1,0.5977011494252874\n",
            "tenemos:1,1,0.5977011494252874\n",
            "tenemos:1,1,0.5977011494252874\n",
            "tenemos:1,1,0.5977011494252874\n",
            "tenemos:1,1,0.5977011494252874\n",
            "tenemos:1,1,0.5977011494252874\n",
            "tenemos:1,1,0.5977011494252874\n",
            "tenemos:1,1,0.5977011494252874\n",
            "tenemos:1,1,0.5977011494252874\n",
            "tenemos:1,1,0.5977011494252874\n",
            "tenemos:1,1,0.5977011494252874\n",
            "tenemos:1,1,0.5977011494252874\n",
            "tenemos:1,1,0.5977011494252874\n",
            "tenemos:1,1,0.5977011494252874\n",
            "tenemos:1,1,0.5977011494252874\n",
            "tenemos:1,1,0.5977011494252874\n",
            "tenemos:1,1,0.5977011494252874\n",
            "tenemos:1,1,0.5977011494252874\n",
            "tenemos:1,1,0.5977011494252874\n",
            "tenemos:1,1,0.5977011494252874\n",
            "tenemos:1,1,0.5977011494252874\n",
            "tenemos:1,1,0.5977011494252874\n",
            "tenemos:1,1,0.5977011494252874\n",
            "tenemos:1,1,0.5977011494252874\n",
            "tenemos:1,1,0.5977011494252874\n",
            "tenemos:1,1,0.5977011494252874\n",
            "tenemos:1,1,0.5977011494252874\n",
            "tenemos:1,1,0.5977011494252874\n",
            "tenemos:2,1,0.6046511627906976\n",
            "tenemos:2,2,0.6741573033707866\n",
            "tenemos:2,2,0.6741573033707866\n",
            "tenemos:2,2,0.6741573033707866\n",
            "tenemos:2,2,0.6741573033707866\n",
            "tenemos:2,2,0.6741573033707866\n",
            "tenemos:2,2,0.6741573033707866\n",
            "tenemos:2,2,0.6741573033707866\n",
            "tenemos:2,2,0.6741573033707866\n",
            "tenemos:2,2,0.6741573033707866\n",
            "tenemos:2,2,0.6741573033707866\n",
            "tenemos:2,2,0.6741573033707866\n",
            "tenemos:2,2,0.6741573033707866\n",
            "tenemos:2,2,0.6741573033707866\n",
            "tenemos:2,2,0.6741573033707866\n",
            "tenemos:2,2,0.6741573033707866\n",
            "tenemos:2,2,0.6741573033707866\n",
            "tenemos:2,2,0.6741573033707866\n",
            "tenemos:2,2,0.6741573033707866\n",
            "tenemos:2,2,0.6741573033707866\n",
            "tenemos:2,2,0.6741573033707866\n",
            "tenemos:2,2,0.6741573033707866\n",
            "tenemos:2,2,0.6741573033707866\n",
            "tenemos:2,2,0.6741573033707866\n",
            "tenemos:2,2,0.6741573033707866\n",
            "tenemos:2,2,0.6741573033707866\n",
            "tenemos:2,2,0.6741573033707866\n",
            "tenemos:2,2,0.6741573033707866\n",
            "tenemos:2,2,0.6741573033707866\n",
            "tenemos:2,2,0.6741573033707866\n",
            "tenemos:2,2,0.6741573033707866\n",
            "tenemos:2,2,0.6741573033707866\n",
            "tenemos:2,2,0.6741573033707866\n",
            "tenemos:2,2,0.6741573033707866\n",
            "tenemos:2,2,0.6741573033707866\n",
            "tenemos:2,2,0.6741573033707866\n",
            "tenemos:2,2,0.6741573033707866\n",
            "tenemos:2,2,0.6741573033707866\n",
            "tenemos:2,2,0.6741573033707866\n",
            "tenemos:2,2,0.6741573033707866\n",
            "tenemos:2,2,0.6741573033707866\n",
            "tenemos:2,2,0.6741573033707866\n",
            "tenemos:2,2,0.6741573033707866\n",
            "tenemos:2,2,0.6741573033707866\n",
            "tenemos:2,2,0.6741573033707866\n",
            "tenemos:2,2,0.6741573033707866\n",
            "tenemos:2,2,0.6741573033707866\n",
            "tenemos:2,2,0.6741573033707866\n",
            "tenemos:2,2,0.6741573033707866\n",
            "tenemos:2,2,0.6741573033707866\n",
            "tenemos:2,2,0.6741573033707866\n",
            "tenemos:2,2,0.6741573033707866\n",
            "tenemos:2,2,0.6741573033707866\n",
            "tenemos:2,2,0.6741573033707866\n",
            "tenemos:2,2,0.6741573033707866\n",
            "tenemos:2,2,0.6741573033707866\n",
            "tenemos:2,2,0.6741573033707866\n",
            "tenemos:2,2,0.6741573033707866\n",
            "tenemos:2,2,0.6741573033707866\n",
            "tenemos:2,2,0.6741573033707866\n",
            "tenemos:4,3,0.6744186046511628\n",
            "tenemos:4,3,0.6744186046511628\n",
            "tenemos:4,3,0.6744186046511628\n",
            "tenemos:4,3,0.6744186046511628\n",
            "tenemos:4,3,0.6744186046511628\n",
            "tenemos:4,3,0.6744186046511628\n",
            "tenemos:4,3,0.6744186046511628\n",
            "tenemos:4,3,0.6744186046511628\n",
            "tenemos:4,3,0.6744186046511628\n",
            "tenemos:4,3,0.6744186046511628\n",
            "tenemos:4,3,0.6744186046511628\n",
            "tenemos:4,3,0.6744186046511628\n",
            "tenemos:4,3,0.6744186046511628\n",
            "tenemos:4,3,0.6744186046511628\n",
            "tenemos:4,3,0.6744186046511628\n",
            "tenemos:4,3,0.6744186046511628\n",
            "tenemos:4,3,0.6744186046511628\n",
            "tenemos:4,3,0.6744186046511628\n",
            "tenemos:4,3,0.6744186046511628\n",
            "tenemos:4,3,0.6744186046511628\n",
            "tenemos:4,3,0.6744186046511628\n",
            "tenemos:4,3,0.6744186046511628\n",
            "tenemos:4,3,0.6744186046511628\n",
            "tenemos:4,3,0.6744186046511628\n",
            "tenemos:4,3,0.6744186046511628\n",
            "tenemos:4,3,0.6744186046511628\n",
            "tenemos:4,3,0.6744186046511628\n",
            "tenemos:4,3,0.6744186046511628\n",
            "tenemos:4,3,0.6744186046511628\n",
            "tenemos:4,3,0.6744186046511628\n",
            "tenemos:4,3,0.6744186046511628\n",
            "tenemos:4,3,0.6744186046511628\n",
            "tenemos:4,3,0.6744186046511628\n",
            "tenemos:4,3,0.6744186046511628\n",
            "tenemos:4,3,0.6744186046511628\n",
            "tenemos:4,3,0.6744186046511628\n",
            "tenemos:4,3,0.6744186046511628\n",
            "tenemos:4,3,0.6744186046511628\n",
            "tenemos:4,3,0.6744186046511628\n",
            "tenemos:4,3,0.6744186046511628\n",
            "tenemos:4,3,0.6744186046511628\n",
            "tenemos:4,3,0.6744186046511628\n",
            "tenemos:4,3,0.6744186046511628\n",
            "tenemos:4,3,0.6744186046511628\n",
            "tenemos:4,3,0.6744186046511628\n",
            "tenemos:4,3,0.6744186046511628\n",
            "tenemos:4,3,0.6744186046511628\n",
            "tenemos:4,3,0.6744186046511628\n",
            "tenemos:4,3,0.6744186046511628\n",
            "tenemos:4,3,0.6744186046511628\n",
            "tenemos:4,3,0.6744186046511628\n",
            "tenemos:4,3,0.6744186046511628\n",
            "tenemos:4,3,0.6744186046511628\n",
            "tenemos:4,3,0.6744186046511628\n",
            "tenemos:4,3,0.6744186046511628\n",
            "tenemos:4,3,0.6744186046511628\n",
            "tenemos:4,3,0.6744186046511628\n",
            "tenemos:4,3,0.6744186046511628\n",
            "tenemos:4,3,0.6744186046511628\n",
            "tenemos:4,3,0.6744186046511628\n",
            "tenemos:4,3,0.6744186046511628\n",
            "tenemos:4,3,0.6744186046511628\n",
            "tenemos:4,3,0.6744186046511628\n",
            "tenemos:4,3,0.6744186046511628\n",
            "tenemos:4,3,0.6744186046511628\n",
            "tenemos:4,3,0.6744186046511628\n",
            "tenemos:4,3,0.6744186046511628\n",
            "tenemos:4,3,0.6744186046511628\n",
            "tenemos:4,3,0.6744186046511628\n",
            "tenemos:4,3,0.6744186046511628\n",
            "tenemos:4,3,0.6744186046511628\n",
            "tenemos:4,3,0.6744186046511628\n",
            "tenemos:4,3,0.6744186046511628\n",
            "tenemos:4,3,0.6744186046511628\n",
            "tenemos:4,3,0.6744186046511628\n",
            "tenemos:4,3,0.6744186046511628\n",
            "tenemos:4,3,0.6744186046511628\n",
            "tenemos:4,3,0.6744186046511628\n",
            "tenemos:4,3,0.6744186046511628\n",
            "tenemos:4,3,0.6744186046511628\n",
            "tenemos:4,3,0.6744186046511628\n",
            "tenemos:4,3,0.6744186046511628\n",
            "tenemos:4,3,0.6744186046511628\n",
            "tenemos:4,3,0.6744186046511628\n",
            "tenemos:4,3,0.6744186046511628\n",
            "tenemos:4,3,0.6744186046511628\n",
            "tenemos:4,3,0.6744186046511628\n",
            "tenemos:4,3,0.6744186046511628\n",
            "tenemos:4,3,0.6744186046511628\n",
            "tenemos:4,3,0.6744186046511628\n",
            "tenemos:4,3,0.6744186046511628\n",
            "tenemos:4,3,0.6744186046511628\n",
            "tenemos:4,3,0.6744186046511628\n",
            "tenemos:4,3,0.6744186046511628\n",
            "tenemos:4,3,0.6744186046511628\n",
            "tenemos:4,3,0.6744186046511628\n",
            "tenemos:4,3,0.6744186046511628\n",
            "tenemos:4,3,0.6744186046511628\n",
            "tenemos:4,3,0.6744186046511628\n",
            "tenemos:4,3,0.6744186046511628\n",
            "tenemos:4,3,0.6744186046511628\n",
            "tenemos:4,3,0.6744186046511628\n",
            "tenemos:4,3,0.6744186046511628\n",
            "tenemos:4,3,0.6744186046511628\n",
            "tenemos:4,3,0.6744186046511628\n",
            "tenemos:4,3,0.6744186046511628\n",
            "tenemos:4,3,0.6744186046511628\n",
            "tenemos:4,3,0.6744186046511628\n",
            "tenemos:4,3,0.6744186046511628\n",
            "tenemos:4,3,0.6744186046511628\n",
            "tenemos:4,3,0.6744186046511628\n",
            "tenemos:4,3,0.6744186046511628\n",
            "tenemos:4,3,0.6744186046511628\n",
            "tenemos:4,3,0.6744186046511628\n",
            "tenemos:4,3,0.6744186046511628\n",
            "tenemos:4,3,0.6744186046511628\n",
            "tenemos:4,3,0.6744186046511628\n",
            "tenemos:4,3,0.6744186046511628\n",
            "tenemos:4,3,0.6744186046511628\n",
            "tenemos:4,3,0.6744186046511628\n",
            "tenemos:4,3,0.6744186046511628\n",
            "tenemos:4,3,0.6744186046511628\n",
            "tenemos:4,3,0.6744186046511628\n",
            "tenemos:4,3,0.6744186046511628\n",
            "tenemos:4,3,0.6744186046511628\n",
            "tenemos:4,3,0.6744186046511628\n",
            "tenemos:4,3,0.6744186046511628\n",
            "tenemos:4,3,0.6744186046511628\n",
            "tenemos:4,3,0.6744186046511628\n",
            "tenemos:4,3,0.6744186046511628\n",
            "tenemos:4,3,0.6744186046511628\n",
            "tenemos:4,3,0.6744186046511628\n",
            "tenemos:4,3,0.6744186046511628\n",
            "tenemos:4,3,0.6744186046511628\n",
            "tenemos:4,3,0.6744186046511628\n",
            "tenemos:4,3,0.6744186046511628\n",
            "tenemos:4,3,0.6744186046511628\n",
            "tenemos:4,3,0.6744186046511628\n",
            "tenemos:4,3,0.6744186046511628\n",
            "tenemos:4,3,0.6744186046511628\n",
            "tenemos:4,3,0.6744186046511628\n",
            "tenemos:4,3,0.6744186046511628\n",
            "tenemos:4,3,0.6744186046511628\n",
            "tenemos:4,3,0.6744186046511628\n",
            "tenemos:4,3,0.6744186046511628\n",
            "tenemos:4,3,0.6744186046511628\n",
            "tenemos:4,3,0.6744186046511628\n",
            "tenemos:4,3,0.6744186046511628\n",
            "tenemos:4,3,0.6744186046511628\n",
            "tenemos:4,3,0.6744186046511628\n",
            "tenemos:4,3,0.6744186046511628\n",
            "tenemos:4,3,0.6744186046511628\n",
            "tenemos:4,3,0.6744186046511628\n",
            "tenemos:4,3,0.6744186046511628\n",
            "tenemos:9,12,0.6862745098039216\n",
            "tenemos:9,12,0.6862745098039216\n",
            "tenemos:9,12,0.6862745098039216\n",
            "tenemos:9,12,0.6862745098039216\n",
            "tenemos:9,12,0.6862745098039216\n",
            "tenemos:9,12,0.6862745098039216\n",
            "tenemos:9,12,0.6862745098039216\n",
            "tenemos:9,12,0.6862745098039216\n",
            "tenemos:9,12,0.6862745098039216\n",
            "tenemos:9,12,0.6862745098039216\n",
            "tenemos:9,12,0.6862745098039216\n",
            "tenemos:9,12,0.6862745098039216\n",
            "tenemos:9,12,0.6862745098039216\n",
            "tenemos:9,12,0.6862745098039216\n",
            "tenemos:9,12,0.6862745098039216\n",
            "tenemos:9,12,0.6862745098039216\n",
            "tenemos:9,12,0.6862745098039216\n",
            "tenemos:9,12,0.6862745098039216\n"
          ]
        }
      ]
    },
    {
      "cell_type": "markdown",
      "source": [
        "Como vemos que el mejor F1-Score (que resume bien la precision y el recall) se alcanza en una red neuronal con 12 capas ocultas y 9 unidades ocultas por capa, nos quedaremos con ese modelo."
      ],
      "metadata": {
        "id": "vJLp3lbjwggC"
      }
    },
    {
      "cell_type": "code",
      "source": [
        "h , k = (9,12)\n",
        "capas = h*np.ones(k, dtype = int).ravel()\n",
        "capas"
      ],
      "metadata": {
        "colab": {
          "base_uri": "https://localhost:8080/"
        },
        "id": "4p3nQJAILGHN",
        "outputId": "d6155439-7a07-4216-e513-3c09bebaf496"
      },
      "execution_count": null,
      "outputs": [
        {
          "output_type": "execute_result",
          "data": {
            "text/plain": [
              "array([9, 9, 9, 9, 9, 9, 9, 9, 9, 9, 9, 9])"
            ]
          },
          "metadata": {},
          "execution_count": 34
        }
      ]
    },
    {
      "cell_type": "markdown",
      "source": [
        "Aqui tenemos una red neuronal feedforward con 12 capas ocultas y 9 unidades ocultas por capa, con función de activación ReLU para cada capa oculta, asumimos un parámetro de aprendizaje constante 0.001, un valor para el parámetro de regularización L2 de 0.00001 y usaremos una función de optimizacion basada en los metodos de Quasi-Newton (pues se alcanzan mejores resultados con ellos comparandolo con Adam y Gradiente Descendiente Estocástico)."
      ],
      "metadata": {
        "id": "ItG1xm0Uwy0A"
      }
    },
    {
      "cell_type": "code",
      "source": [
        "clf2 = MLPClassifier(solver='lbfgs', alpha=1e-5, activation = 'relu', learning_rate='constant', learning_rate_init=1e-3, \n",
        "                  max_iter = 2000,\n",
        "                 hidden_layer_sizes= capas, random_state=1)"
      ],
      "metadata": {
        "id": "ygyz33dQyv3c"
      },
      "execution_count": null,
      "outputs": []
    },
    {
      "cell_type": "code",
      "source": [
        "clf2.fit(X_train_c,y_train)"
      ],
      "metadata": {
        "colab": {
          "base_uri": "https://localhost:8080/"
        },
        "id": "8LWsTfqgGnXB",
        "outputId": "259d9aed-1ac8-47ff-f9d8-fd08c170e773"
      },
      "execution_count": null,
      "outputs": [
        {
          "output_type": "execute_result",
          "data": {
            "text/plain": [
              "MLPClassifier(alpha=1e-05,\n",
              "              hidden_layer_sizes=array([9, 9, 9, 9, 9, 9, 9, 9, 9, 9, 9, 9]),\n",
              "              max_iter=2000, random_state=1, solver='lbfgs')"
            ]
          },
          "metadata": {},
          "execution_count": 36
        }
      ]
    },
    {
      "cell_type": "code",
      "source": [
        "mlp_pred = clf2.predict(X_test_c)"
      ],
      "metadata": {
        "id": "CkcFiZDTGnUk"
      },
      "execution_count": null,
      "outputs": []
    },
    {
      "cell_type": "code",
      "source": [
        "print(\"Classification Report is:\\n\",classification_report(y_test,mlp_pred))\n",
        "print(\"\\n F1:\\n\",f1_score(y_test,mlp_pred))\n",
        "print(\"\\n Precision score is:\\n\",precision_score(y_test,mlp_pred))\n",
        "print(\"\\n Recall score is:\\n\",recall_score(y_test,mlp_pred))\n",
        "print(\"\\n Confusion Matrix:\\n\")\n",
        "sns.heatmap(confusion_matrix(y_test,mlp_pred),annot=True)"
      ],
      "metadata": {
        "colab": {
          "base_uri": "https://localhost:8080/",
          "height": 664
        },
        "id": "7UI60Pf7GnSf",
        "outputId": "45614ca5-707a-462e-a1a4-38881ec6b0ca"
      },
      "execution_count": null,
      "outputs": [
        {
          "output_type": "stream",
          "name": "stdout",
          "text": [
            "Classification Report is:\n",
            "               precision    recall  f1-score   support\n",
            "\n",
            "         0.0       0.88      0.81      0.84       107\n",
            "         1.0       0.64      0.74      0.69        47\n",
            "\n",
            "    accuracy                           0.79       154\n",
            "   macro avg       0.76      0.78      0.77       154\n",
            "weighted avg       0.80      0.79      0.80       154\n",
            "\n",
            "\n",
            " F1:\n",
            " 0.6862745098039216\n",
            "\n",
            " Precision score is:\n",
            " 0.6363636363636364\n",
            "\n",
            " Recall score is:\n",
            " 0.7446808510638298\n",
            "\n",
            " Confusion Matrix:\n",
            "\n"
          ]
        },
        {
          "output_type": "execute_result",
          "data": {
            "text/plain": [
              "<matplotlib.axes._subplots.AxesSubplot at 0x7f18cc6cad30>"
            ]
          },
          "metadata": {},
          "execution_count": 89
        },
        {
          "output_type": "display_data",
          "data": {
            "text/plain": [
              "<Figure size 432x288 with 2 Axes>"
            ],
            "image/png": "[encoded data removed]"
          },
          "metadata": {
            "needs_background": "light"
          }
        }
      ]
    },
    {
      "cell_type": "markdown",
      "source": [
        "###Comparativa de métodos"
      ],
      "metadata": {
        "id": "sSG4pkmZ3SS8"
      }
    },
    {
      "cell_type": "markdown",
      "source": [
        "A partir de la evaluación realizada se pueden tener los siguientes resultados donde se comparan los 5 modelos que se usaron:\n",
        "\n",
        "|<b>Modelo</b> | <b>Accuracy</b> |<b>Precisión</b> |<b>Recall</b> |<b>F1</b>\n",
        "|---- |---- |---- |---- |----\n",
        "|Bayes Naïve | 0.77 | 0.65 | 0.55 | 0.59\n",
        "|Regresión logística | 0.79 | 0.68 | 0.55 | 0.61\n",
        "|Árboles de decisión | 0.79 | <b>0.77 <b>| 0.44 | 0.56\n",
        "|K-NN | <b>0.81<b> | 0.72| 0.57 | 0.64\n",
        "|Redes Neuronales | 0.79 | 0.64 | <b>0.74<b> | <b>0.69<b>\n",
        "\n",
        "Por lo tanto podemos ver que el modelo con el mejor desempeño, mas equilibrado en los 4 aspectos es el modelo de K-NN.\n",
        "\n"
      ],
      "metadata": {
        "id": "EnZFtSl83SS8"
      }
    },
    {
      "cell_type": "markdown",
      "source": [
        "## **4. Conclusiones**"
      ],
      "metadata": {
        "id": "Gdz0VWTkWO9x"
      }
    },
    {
      "cell_type": "markdown",
      "source": [
        "Las diferencias entre los cinco modelos se pueden observar en tanto que el primero, *Bayes Naïve*, es un modelo generativo  y como usamos un modelo gaussiano, los parámetros responden a la media y la varianza de cada uno de los rasgos:"
      ],
      "metadata": {
        "id": "zT0ksE1Zs6t6"
      }
    },
    {
      "cell_type": "code",
      "execution_count": null,
      "metadata": {
        "id": "25fe6d68",
        "outputId": "0a313d91-7a8c-4aef-f655-3620f6ba3442",
        "colab": {
          "base_uri": "https://localhost:8080/",
          "height": 206
        }
      },
      "outputs": [
        {
          "output_type": "execute_result",
          "data": {
            "text/plain": [
              "                Media 0   Media 1\n",
              "Pregnancies    0.453615  0.550420\n",
              "Glucose        0.398527  0.682585\n",
              "SkinThickness  0.437346  0.493643\n",
              "BMI            0.438205  0.629512\n",
              "Age            0.434519  0.628419"
            ],
            "text/html": [
              "\n",
              "  <div id=\"df-1f3bccf9-3e0c-4121-909c-089ddf4442a4\">\n",
              "    <div class=\"colab-df-container\">\n",
              "      <div>\n",
              "<style scoped>\n",
              "    .dataframe tbody tr th:only-of-type {\n",
              "        vertical-align: middle;\n",
              "    }\n",
              "\n",
              "    .dataframe tbody tr th {\n",
              "        vertical-align: top;\n",
              "    }\n",
              "\n",
              "    .dataframe thead th {\n",
              "        text-align: right;\n",
              "    }\n",
              "</style>\n",
              "<table border=\"1\" class=\"dataframe\">\n",
              "  <thead>\n",
              "    <tr style=\"text-align: right;\">\n",
              "      <th></th>\n",
              "      <th>Media 0</th>\n",
              "      <th>Media 1</th>\n",
              "    </tr>\n",
              "  </thead>\n",
              "  <tbody>\n",
              "    <tr>\n",
              "      <th>Pregnancies</th>\n",
              "      <td>0.453615</td>\n",
              "      <td>0.550420</td>\n",
              "    </tr>\n",
              "    <tr>\n",
              "      <th>Glucose</th>\n",
              "      <td>0.398527</td>\n",
              "      <td>0.682585</td>\n",
              "    </tr>\n",
              "    <tr>\n",
              "      <th>SkinThickness</th>\n",
              "      <td>0.437346</td>\n",
              "      <td>0.493643</td>\n",
              "    </tr>\n",
              "    <tr>\n",
              "      <th>BMI</th>\n",
              "      <td>0.438205</td>\n",
              "      <td>0.629512</td>\n",
              "    </tr>\n",
              "    <tr>\n",
              "      <th>Age</th>\n",
              "      <td>0.434519</td>\n",
              "      <td>0.628419</td>\n",
              "    </tr>\n",
              "  </tbody>\n",
              "</table>\n",
              "</div>\n",
              "      <button class=\"colab-df-convert\" onclick=\"convertToInteractive('df-1f3bccf9-3e0c-4121-909c-089ddf4442a4')\"\n",
              "              title=\"Convert this dataframe to an interactive table.\"\n",
              "              style=\"display:none;\">\n",
              "        \n",
              "  <svg xmlns=\"http://www.w3.org/2000/svg\" height=\"24px\"viewBox=\"0 0 24 24\"\n",
              "       width=\"24px\">\n",
              "    <path d=\"M0 0h24v24H0V0z\" fill=\"none\"/>\n",
              "    <path d=\"M18.56 5.44l.94 2.06.94-2.06 2.06-.94-2.06-.94-.94-2.06-.94 2.06-2.06.94zm-11 1L8.5 8.5l.94-2.06 2.06-.94-2.06-.94L8.5 2.5l-.94 2.06-2.06.94zm10 10l.94 2.06.94-2.06 2.06-.94-2.06-.94-.94-2.06-.94 2.06-2.06.94z\"/><path d=\"M17.41 7.96l-1.37-1.37c-.4-.4-.92-.59-1.43-.59-.52 0-1.04.2-1.43.59L10.3 9.45l-7.72 7.72c-.78.78-.78 2.05 0 2.83L4 21.41c.39.39.9.59 1.41.59.51 0 1.02-.2 1.41-.59l7.78-7.78 2.81-2.81c.8-.78.8-2.07 0-2.86zM5.41 20L4 18.59l7.72-7.72 1.47 1.35L5.41 20z\"/>\n",
              "  </svg>\n",
              "      </button>\n",
              "      \n",
              "  <style>\n",
              "    .colab-df-container {\n",
              "      display:flex;\n",
              "      flex-wrap:wrap;\n",
              "      gap: 12px;\n",
              "    }\n",
              "\n",
              "    .colab-df-convert {\n",
              "      background-color: #E8F0FE;\n",
              "      border: none;\n",
              "      border-radius: 50%;\n",
              "      cursor: pointer;\n",
              "      display: none;\n",
              "      fill: #1967D2;\n",
              "      height: 32px;\n",
              "      padding: 0 0 0 0;\n",
              "      width: 32px;\n",
              "    }\n",
              "\n",
              "    .colab-df-convert:hover {\n",
              "      background-color: #E2EBFA;\n",
              "      box-shadow: 0px 1px 2px rgba(60, 64, 67, 0.3), 0px 1px 3px 1px rgba(60, 64, 67, 0.15);\n",
              "      fill: #174EA6;\n",
              "    }\n",
              "\n",
              "    [theme=dark] .colab-df-convert {\n",
              "      background-color: #3B4455;\n",
              "      fill: #D2E3FC;\n",
              "    }\n",
              "\n",
              "    [theme=dark] .colab-df-convert:hover {\n",
              "      background-color: #434B5C;\n",
              "      box-shadow: 0px 1px 3px 1px rgba(0, 0, 0, 0.15);\n",
              "      filter: drop-shadow(0px 1px 2px rgba(0, 0, 0, 0.3));\n",
              "      fill: #FFFFFF;\n",
              "    }\n",
              "  </style>\n",
              "\n",
              "      <script>\n",
              "        const buttonEl =\n",
              "          document.querySelector('#df-1f3bccf9-3e0c-4121-909c-089ddf4442a4 button.colab-df-convert');\n",
              "        buttonEl.style.display =\n",
              "          google.colab.kernel.accessAllowed ? 'block' : 'none';\n",
              "\n",
              "        async function convertToInteractive(key) {\n",
              "          const element = document.querySelector('#df-1f3bccf9-3e0c-4121-909c-089ddf4442a4');\n",
              "          const dataTable =\n",
              "            await google.colab.kernel.invokeFunction('convertToInteractive',\n",
              "                                                     [key], {});\n",
              "          if (!dataTable) return;\n",
              "\n",
              "          const docLinkHtml = 'Like what you see? Visit the ' +\n",
              "            '<a target=\"_blank\" href=https://colab.research.google.com/notebooks/data_table.ipynb>data table notebook</a>'\n",
              "            + ' to learn more about interactive tables.';\n",
              "          element.innerHTML = '';\n",
              "          dataTable['output_type'] = 'display_data';\n",
              "          await google.colab.output.renderOutput(dataTable, element);\n",
              "          const docLink = document.createElement('div');\n",
              "          docLink.innerHTML = docLinkHtml;\n",
              "          element.appendChild(docLink);\n",
              "        }\n",
              "      </script>\n",
              "    </div>\n",
              "  </div>\n",
              "  "
            ]
          },
          "metadata": {},
          "execution_count": 65
        }
      ],
      "source": [
        "bayes_weights = pd.DataFrame(data=best_model_nb.theta_, index=['Media 0','Media 1'], columns = X_train.columns)\n",
        "bayes_weights.T"
      ]
    },
    {
      "cell_type": "code",
      "execution_count": null,
      "metadata": {
        "id": "2b69a4b6",
        "outputId": "c50428f2-b883-474d-cff9-69e21ba2ad31",
        "colab": {
          "base_uri": "https://localhost:8080/",
          "height": 261
        }
      },
      "outputs": [
        {
          "output_type": "stream",
          "name": "stderr",
          "text": [
            "/usr/local/lib/python3.8/dist-packages/sklearn/utils/deprecation.py:103: FutureWarning: Attribute `sigma_` was deprecated in 1.0 and will be removed in1.2. Use `var_` instead.\n",
            "  warnings.warn(msg, category=FutureWarning)\n"
          ]
        },
        {
          "output_type": "execute_result",
          "data": {
            "text/plain": [
              "                Media 0   Media 1\n",
              "Pregnancies    0.129721  0.156630\n",
              "Glucose        0.113496  0.107915\n",
              "SkinThickness  0.153667  0.177678\n",
              "BMI            0.130999  0.105446\n",
              "Age            0.134983  0.106203"
            ],
            "text/html": [
              "\n",
              "  <div id=\"df-531f1195-7cc2-483f-83b3-8c346a309df7\">\n",
              "    <div class=\"colab-df-container\">\n",
              "      <div>\n",
              "<style scoped>\n",
              "    .dataframe tbody tr th:only-of-type {\n",
              "        vertical-align: middle;\n",
              "    }\n",
              "\n",
              "    .dataframe tbody tr th {\n",
              "        vertical-align: top;\n",
              "    }\n",
              "\n",
              "    .dataframe thead th {\n",
              "        text-align: right;\n",
              "    }\n",
              "</style>\n",
              "<table border=\"1\" class=\"dataframe\">\n",
              "  <thead>\n",
              "    <tr style=\"text-align: right;\">\n",
              "      <th></th>\n",
              "      <th>Media 0</th>\n",
              "      <th>Media 1</th>\n",
              "    </tr>\n",
              "  </thead>\n",
              "  <tbody>\n",
              "    <tr>\n",
              "      <th>Pregnancies</th>\n",
              "      <td>0.129721</td>\n",
              "      <td>0.156630</td>\n",
              "    </tr>\n",
              "    <tr>\n",
              "      <th>Glucose</th>\n",
              "      <td>0.113496</td>\n",
              "      <td>0.107915</td>\n",
              "    </tr>\n",
              "    <tr>\n",
              "      <th>SkinThickness</th>\n",
              "      <td>0.153667</td>\n",
              "      <td>0.177678</td>\n",
              "    </tr>\n",
              "    <tr>\n",
              "      <th>BMI</th>\n",
              "      <td>0.130999</td>\n",
              "      <td>0.105446</td>\n",
              "    </tr>\n",
              "    <tr>\n",
              "      <th>Age</th>\n",
              "      <td>0.134983</td>\n",
              "      <td>0.106203</td>\n",
              "    </tr>\n",
              "  </tbody>\n",
              "</table>\n",
              "</div>\n",
              "      <button class=\"colab-df-convert\" onclick=\"convertToInteractive('df-531f1195-7cc2-483f-83b3-8c346a309df7')\"\n",
              "              title=\"Convert this dataframe to an interactive table.\"\n",
              "              style=\"display:none;\">\n",
              "        \n",
              "  <svg xmlns=\"http://www.w3.org/2000/svg\" height=\"24px\"viewBox=\"0 0 24 24\"\n",
              "       width=\"24px\">\n",
              "    <path d=\"M0 0h24v24H0V0z\" fill=\"none\"/>\n",
              "    <path d=\"M18.56 5.44l.94 2.06.94-2.06 2.06-.94-2.06-.94-.94-2.06-.94 2.06-2.06.94zm-11 1L8.5 8.5l.94-2.06 2.06-.94-2.06-.94L8.5 2.5l-.94 2.06-2.06.94zm10 10l.94 2.06.94-2.06 2.06-.94-2.06-.94-.94-2.06-.94 2.06-2.06.94z\"/><path d=\"M17.41 7.96l-1.37-1.37c-.4-.4-.92-.59-1.43-.59-.52 0-1.04.2-1.43.59L10.3 9.45l-7.72 7.72c-.78.78-.78 2.05 0 2.83L4 21.41c.39.39.9.59 1.41.59.51 0 1.02-.2 1.41-.59l7.78-7.78 2.81-2.81c.8-.78.8-2.07 0-2.86zM5.41 20L4 18.59l7.72-7.72 1.47 1.35L5.41 20z\"/>\n",
              "  </svg>\n",
              "      </button>\n",
              "      \n",
              "  <style>\n",
              "    .colab-df-container {\n",
              "      display:flex;\n",
              "      flex-wrap:wrap;\n",
              "      gap: 12px;\n",
              "    }\n",
              "\n",
              "    .colab-df-convert {\n",
              "      background-color: #E8F0FE;\n",
              "      border: none;\n",
              "      border-radius: 50%;\n",
              "      cursor: pointer;\n",
              "      display: none;\n",
              "      fill: #1967D2;\n",
              "      height: 32px;\n",
              "      padding: 0 0 0 0;\n",
              "      width: 32px;\n",
              "    }\n",
              "\n",
              "    .colab-df-convert:hover {\n",
              "      background-color: #E2EBFA;\n",
              "      box-shadow: 0px 1px 2px rgba(60, 64, 67, 0.3), 0px 1px 3px 1px rgba(60, 64, 67, 0.15);\n",
              "      fill: #174EA6;\n",
              "    }\n",
              "\n",
              "    [theme=dark] .colab-df-convert {\n",
              "      background-color: #3B4455;\n",
              "      fill: #D2E3FC;\n",
              "    }\n",
              "\n",
              "    [theme=dark] .colab-df-convert:hover {\n",
              "      background-color: #434B5C;\n",
              "      box-shadow: 0px 1px 3px 1px rgba(0, 0, 0, 0.15);\n",
              "      filter: drop-shadow(0px 1px 2px rgba(0, 0, 0, 0.3));\n",
              "      fill: #FFFFFF;\n",
              "    }\n",
              "  </style>\n",
              "\n",
              "      <script>\n",
              "        const buttonEl =\n",
              "          document.querySelector('#df-531f1195-7cc2-483f-83b3-8c346a309df7 button.colab-df-convert');\n",
              "        buttonEl.style.display =\n",
              "          google.colab.kernel.accessAllowed ? 'block' : 'none';\n",
              "\n",
              "        async function convertToInteractive(key) {\n",
              "          const element = document.querySelector('#df-531f1195-7cc2-483f-83b3-8c346a309df7');\n",
              "          const dataTable =\n",
              "            await google.colab.kernel.invokeFunction('convertToInteractive',\n",
              "                                                     [key], {});\n",
              "          if (!dataTable) return;\n",
              "\n",
              "          const docLinkHtml = 'Like what you see? Visit the ' +\n",
              "            '<a target=\"_blank\" href=https://colab.research.google.com/notebooks/data_table.ipynb>data table notebook</a>'\n",
              "            + ' to learn more about interactive tables.';\n",
              "          element.innerHTML = '';\n",
              "          dataTable['output_type'] = 'display_data';\n",
              "          await google.colab.output.renderOutput(dataTable, element);\n",
              "          const docLink = document.createElement('div');\n",
              "          docLink.innerHTML = docLinkHtml;\n",
              "          element.appendChild(docLink);\n",
              "        }\n",
              "      </script>\n",
              "    </div>\n",
              "  </div>\n",
              "  "
            ]
          },
          "metadata": {},
          "execution_count": 66
        }
      ],
      "source": [
        "bayes_sigma = pd.DataFrame(data=best_model_nb.sigma_, index=['Media 0','Media 1'], columns = X_train.columns)\n",
        "bayes_sigma.T"
      ]
    },
    {
      "cell_type": "markdown",
      "source": [
        "El segundo,  *Regresión logística*, es un modelo discriminativo que se puede interpretar por los parámetros o pesos que asigna a cada rasgo:"
      ],
      "metadata": {
        "id": "68j21C0FlaqR"
      }
    },
    {
      "cell_type": "code",
      "execution_count": null,
      "metadata": {
        "id": "8704e0ae",
        "outputId": "624d9a4d-f488-4aeb-eaa0-81f7be89dc24",
        "colab": {
          "base_uri": "https://localhost:8080/",
          "height": 206
        }
      },
      "outputs": [
        {
          "output_type": "execute_result",
          "data": {
            "text/plain": [
              "                   Peso\n",
              "Pregnancies    0.199666\n",
              "Glucose        2.989732\n",
              "SkinThickness  0.145784\n",
              "BMI            1.838940\n",
              "Age            1.592344"
            ],
            "text/html": [
              "\n",
              "  <div id=\"df-0e88d272-f83c-4c0f-b3c9-a438dc15ec95\">\n",
              "    <div class=\"colab-df-container\">\n",
              "      <div>\n",
              "<style scoped>\n",
              "    .dataframe tbody tr th:only-of-type {\n",
              "        vertical-align: middle;\n",
              "    }\n",
              "\n",
              "    .dataframe tbody tr th {\n",
              "        vertical-align: top;\n",
              "    }\n",
              "\n",
              "    .dataframe thead th {\n",
              "        text-align: right;\n",
              "    }\n",
              "</style>\n",
              "<table border=\"1\" class=\"dataframe\">\n",
              "  <thead>\n",
              "    <tr style=\"text-align: right;\">\n",
              "      <th></th>\n",
              "      <th>Peso</th>\n",
              "    </tr>\n",
              "  </thead>\n",
              "  <tbody>\n",
              "    <tr>\n",
              "      <th>Pregnancies</th>\n",
              "      <td>0.199666</td>\n",
              "    </tr>\n",
              "    <tr>\n",
              "      <th>Glucose</th>\n",
              "      <td>2.989732</td>\n",
              "    </tr>\n",
              "    <tr>\n",
              "      <th>SkinThickness</th>\n",
              "      <td>0.145784</td>\n",
              "    </tr>\n",
              "    <tr>\n",
              "      <th>BMI</th>\n",
              "      <td>1.838940</td>\n",
              "    </tr>\n",
              "    <tr>\n",
              "      <th>Age</th>\n",
              "      <td>1.592344</td>\n",
              "    </tr>\n",
              "  </tbody>\n",
              "</table>\n",
              "</div>\n",
              "      <button class=\"colab-df-convert\" onclick=\"convertToInteractive('df-0e88d272-f83c-4c0f-b3c9-a438dc15ec95')\"\n",
              "              title=\"Convert this dataframe to an interactive table.\"\n",
              "              style=\"display:none;\">\n",
              "        \n",
              "  <svg xmlns=\"http://www.w3.org/2000/svg\" height=\"24px\"viewBox=\"0 0 24 24\"\n",
              "       width=\"24px\">\n",
              "    <path d=\"M0 0h24v24H0V0z\" fill=\"none\"/>\n",
              "    <path d=\"M18.56 5.44l.94 2.06.94-2.06 2.06-.94-2.06-.94-.94-2.06-.94 2.06-2.06.94zm-11 1L8.5 8.5l.94-2.06 2.06-.94-2.06-.94L8.5 2.5l-.94 2.06-2.06.94zm10 10l.94 2.06.94-2.06 2.06-.94-2.06-.94-.94-2.06-.94 2.06-2.06.94z\"/><path d=\"M17.41 7.96l-1.37-1.37c-.4-.4-.92-.59-1.43-.59-.52 0-1.04.2-1.43.59L10.3 9.45l-7.72 7.72c-.78.78-.78 2.05 0 2.83L4 21.41c.39.39.9.59 1.41.59.51 0 1.02-.2 1.41-.59l7.78-7.78 2.81-2.81c.8-.78.8-2.07 0-2.86zM5.41 20L4 18.59l7.72-7.72 1.47 1.35L5.41 20z\"/>\n",
              "  </svg>\n",
              "      </button>\n",
              "      \n",
              "  <style>\n",
              "    .colab-df-container {\n",
              "      display:flex;\n",
              "      flex-wrap:wrap;\n",
              "      gap: 12px;\n",
              "    }\n",
              "\n",
              "    .colab-df-convert {\n",
              "      background-color: #E8F0FE;\n",
              "      border: none;\n",
              "      border-radius: 50%;\n",
              "      cursor: pointer;\n",
              "      display: none;\n",
              "      fill: #1967D2;\n",
              "      height: 32px;\n",
              "      padding: 0 0 0 0;\n",
              "      width: 32px;\n",
              "    }\n",
              "\n",
              "    .colab-df-convert:hover {\n",
              "      background-color: #E2EBFA;\n",
              "      box-shadow: 0px 1px 2px rgba(60, 64, 67, 0.3), 0px 1px 3px 1px rgba(60, 64, 67, 0.15);\n",
              "      fill: #174EA6;\n",
              "    }\n",
              "\n",
              "    [theme=dark] .colab-df-convert {\n",
              "      background-color: #3B4455;\n",
              "      fill: #D2E3FC;\n",
              "    }\n",
              "\n",
              "    [theme=dark] .colab-df-convert:hover {\n",
              "      background-color: #434B5C;\n",
              "      box-shadow: 0px 1px 3px 1px rgba(0, 0, 0, 0.15);\n",
              "      filter: drop-shadow(0px 1px 2px rgba(0, 0, 0, 0.3));\n",
              "      fill: #FFFFFF;\n",
              "    }\n",
              "  </style>\n",
              "\n",
              "      <script>\n",
              "        const buttonEl =\n",
              "          document.querySelector('#df-0e88d272-f83c-4c0f-b3c9-a438dc15ec95 button.colab-df-convert');\n",
              "        buttonEl.style.display =\n",
              "          google.colab.kernel.accessAllowed ? 'block' : 'none';\n",
              "\n",
              "        async function convertToInteractive(key) {\n",
              "          const element = document.querySelector('#df-0e88d272-f83c-4c0f-b3c9-a438dc15ec95');\n",
              "          const dataTable =\n",
              "            await google.colab.kernel.invokeFunction('convertToInteractive',\n",
              "                                                     [key], {});\n",
              "          if (!dataTable) return;\n",
              "\n",
              "          const docLinkHtml = 'Like what you see? Visit the ' +\n",
              "            '<a target=\"_blank\" href=https://colab.research.google.com/notebooks/data_table.ipynb>data table notebook</a>'\n",
              "            + ' to learn more about interactive tables.';\n",
              "          element.innerHTML = '';\n",
              "          dataTable['output_type'] = 'display_data';\n",
              "          await google.colab.output.renderOutput(dataTable, element);\n",
              "          const docLink = document.createElement('div');\n",
              "          docLink.innerHTML = docLinkHtml;\n",
              "          element.appendChild(docLink);\n",
              "        }\n",
              "      </script>\n",
              "    </div>\n",
              "  </div>\n",
              "  "
            ]
          },
          "metadata": {},
          "execution_count": 72
        }
      ],
      "source": [
        "logit_weights = pd.DataFrame(data=reg.coef_, index=['Peso'], columns=X_train.columns)\n",
        "logit_weights.T"
      ]
    },
    {
      "cell_type": "markdown",
      "source": [
        "El tercero,  *Arbol de Decisión*, es un modelo donde se clasifican los datos creando reglas entre estos, que podemos observar de la siguiente manera"
      ],
      "metadata": {
        "id": "WfH1a0G9mJEt"
      }
    },
    {
      "cell_type": "code",
      "source": [
        "text_representation = tree.export_text(best_model_dt)\n",
        "print(text_representation)"
      ],
      "metadata": {
        "colab": {
          "base_uri": "https://localhost:8080/"
        },
        "id": "H2z8yIIh4xrf",
        "outputId": "3da140bb-89f9-4605-f538-ffe3f392f38e"
      },
      "execution_count": null,
      "outputs": [
        {
          "output_type": "stream",
          "name": "stdout",
          "text": [
            "|--- feature_1 <= 0.58\n",
            "|   |--- feature_4 <= 0.48\n",
            "|   |   |--- feature_3 <= 0.45\n",
            "|   |   |   |--- feature_2 <= 0.37\n",
            "|   |   |   |   |--- class: 0.0\n",
            "|   |   |   |--- feature_2 >  0.37\n",
            "|   |   |   |   |--- class: 0.0\n",
            "|   |   |--- feature_3 >  0.45\n",
            "|   |   |   |--- class: 0.0\n",
            "|   |--- feature_4 >  0.48\n",
            "|   |   |--- feature_1 <= 0.26\n",
            "|   |   |   |--- class: 0.0\n",
            "|   |   |--- feature_1 >  0.26\n",
            "|   |   |   |--- class: 0.0\n",
            "|--- feature_1 >  0.58\n",
            "|   |--- feature_3 <= 0.40\n",
            "|   |   |--- class: 0.0\n",
            "|   |--- feature_3 >  0.40\n",
            "|   |   |--- feature_1 <= 0.86\n",
            "|   |   |   |--- feature_4 <= 0.57\n",
            "|   |   |   |   |--- class: 0.0\n",
            "|   |   |   |--- feature_4 >  0.57\n",
            "|   |   |   |   |--- class: 1.0\n",
            "|   |   |--- feature_1 >  0.86\n",
            "|   |   |   |--- class: 1.0\n",
            "\n"
          ]
        }
      ]
    },
    {
      "cell_type": "code",
      "source": [
        "fig = plt.figure(figsize=(25,20))\n",
        "_ = tree.plot_tree(best_model_dt, \n",
        "                   feature_names = X_train.columns,  \n",
        "                \n",
        "                   filled=True)"
      ],
      "metadata": {
        "colab": {
          "base_uri": "https://localhost:8080/",
          "height": 922
        },
        "id": "xnpdqyMr4LSc",
        "outputId": "cf83ce34-4103-42ab-c0d9-1f80d6c28174"
      },
      "execution_count": null,
      "outputs": [
        {
          "output_type": "display_data",
          "data": {
            "text/plain": [
              "<Figure size 1800x1440 with 1 Axes>"
            ],
            "image/png": "[encoded data removed]"
          },
          "metadata": {
            "needs_background": "light"
          }
        }
      ]
    },
    {
      "cell_type": "markdown",
      "source": [
        "El cuarto,  *K-NN*, es un modelo de clasificacion donde nos basamos en que clases están más cerca de nuestros valores para poder predecir correctamente, dado que nuestros datos están más allá de las tres dimensiones, no podemos represntarlos en una gráfica"
      ],
      "metadata": {
        "id": "z3KJZCfu4340"
      }
    },
    {
      "cell_type": "markdown",
      "source": [
        "El quinto,  *NN*, Es un modelo más complejo donde tenemos que mejorar muchos parámetros ( tantos como capas y unidades ocultas pondrámos ) basandonos en BackPropagation para el cálculo de cada derivada de nuestra función de error con respecto a todos los parámetros (pesos) que tengamos, si tenemos muchas capas, podemos crear modelos demasiado complejos para nuestro problema, por lo que debemos tener cuidado seleccionando nuestro modelo por lo que consideramos usar Regularización L2 para no caer en el Overfitting. \n",
        "Similar al K-NN, representar lo que aprender cada capa se hace muy complejo, en esta parte, se hace poco intutivo lo que está aprendiendo la red neuronal."
      ],
      "metadata": {
        "id": "5Zyfyo0x5TMn"
      }
    },
    {
      "cell_type": "markdown",
      "source": [
        "La selección del mejor modelo dependerá totalmente en nuestro objetivo al crear este detector de diabetes. Vemos que el K-NN posee el valor más alto en cuanto a precisión, pero tambien debemos apreciar que las NN poseen el valor más alto en Recall. Basicamente, las NN diran a algunas personas que no son diabéticas, que sí lo son. Pero también recuperará la mayor cantidad de personas diabéticas comparandolos contra los demás modelos. Así que dependiendo de que tan seria es la enfermedad, posiblemente elegir el modelo con mayor Recall sea la mejor opcion"
      ],
      "metadata": {
        "id": "RYqCoAB36VjA"
      }
    }
  ]
}